{
 "cells": [
  {
   "cell_type": "markdown",
   "metadata": {},
   "source": [
    "# DQN Training\n",
    "Training a DQN agent using custom gym environment and keras-rl2."
   ]
  },
  {
   "cell_type": "markdown",
   "metadata": {},
   "source": [
    "# Imports"
   ]
  },
  {
   "cell_type": "code",
   "execution_count": 148,
   "metadata": {},
   "outputs": [],
   "source": [
    "import numpy as np\n",
    "import matplotlib.pyplot as plt\n",
    "\n",
    "import tensorflow as tf\n",
    "import tensorflow.keras as keras\n",
    "import tensorflow.keras.layers as layers\n",
    "\n",
    "from gym import Env\n",
    "from gym.spaces import Discrete, Box\n",
    "\n",
    "from rl.agents import DQNAgent\n",
    "from rl.policy import MaxBoltzmannQPolicy, BoltzmannQPolicy, LinearAnnealedPolicy, EpsGreedyQPolicy\n",
    "from rl.memory import SequentialMemory"
   ]
  },
  {
   "cell_type": "markdown",
   "metadata": {},
   "source": [
    "## Functions"
   ]
  },
  {
   "cell_type": "code",
   "execution_count": 149,
   "metadata": {},
   "outputs": [],
   "source": [
    "def moving_average(x, w):\n",
    "    return np.convolve(x, np.ones(w), \"valid\") / w"
   ]
  },
  {
   "cell_type": "markdown",
   "metadata": {},
   "source": [
    "# Environment"
   ]
  },
  {
   "cell_type": "markdown",
   "metadata": {},
   "source": [
    "## Loading Shape Class"
   ]
  },
  {
   "cell_type": "code",
   "execution_count": 150,
   "metadata": {},
   "outputs": [],
   "source": [
    "import sys  \n",
    "sys.path.insert(0, \"E:\\Projects\\Python\\TetrisRoyaleRL\")\n",
    "\n",
    "from settings import *\n",
    "from game_env.shapes import Shape"
   ]
  },
  {
   "cell_type": "markdown",
   "metadata": {},
   "source": [
    "## Reworking the Environment"
   ]
  },
  {
   "cell_type": "code",
   "execution_count": 151,
   "metadata": {},
   "outputs": [],
   "source": [
    "class GameEnv(Env):\n",
    "    def __init__(self):\n",
    "        # spaces\n",
    "        self.action_space = Discrete(4)\n",
    "        self.observation_space = Box(low=0.0, high=1.0, shape=(20, 10, 3))\n",
    "        \n",
    "        # state\n",
    "        self.game_over = None\n",
    "\n",
    "        # coord\n",
    "        self.map = None\n",
    "\n",
    "        # shape\n",
    "        self.shape = None\n",
    "        self.next_shape = None\n",
    "\n",
    "        # init env\n",
    "        self._state_gen()\n",
    "\n",
    "    def _state_gen(self):\n",
    "        self.game_over = False\n",
    "        \n",
    "        self.map = np.ones((GAME_SHAPE_TOP_HIDDEN + 20 + GAME_SHAPE_BORDERS,\n",
    "                            GAME_SHAPE_BORDERS + 10 + GAME_SHAPE_BORDERS), dtype=np.int32)\n",
    "        self.map[0: -GAME_SHAPE_BORDERS, GAME_SHAPE_BORDERS: -GAME_SHAPE_BORDERS] = 0\n",
    "        \n",
    "        self.shape = Shape()\n",
    "        self.next_shape = Shape()\n",
    "\n",
    "    def _state_observe(self):\n",
    "        # observable map\n",
    "        temp_map = self.map[GAME_SHAPE_TOP_HIDDEN:-GAME_SHAPE_BORDERS, GAME_SHAPE_BORDERS: -GAME_SHAPE_BORDERS].copy()\n",
    "        \n",
    "        # observation of cur shape on map\n",
    "        temp_shape = np.zeros(self.map.shape)\n",
    "        x0 = self.shape.x\n",
    "        y0 = int(self.shape.y)\n",
    "        this_shape = self.shape.get_shape()\n",
    "        temp_shape[y0: y0 + this_shape.shape[0], x0: x0 + this_shape.shape[1]] += this_shape\n",
    "        temp_shape = temp_shape[GAME_SHAPE_TOP_HIDDEN:-GAME_SHAPE_BORDERS, GAME_SHAPE_BORDERS: -GAME_SHAPE_BORDERS]\n",
    "        \n",
    "        # next shape on map, assuming y0 = 0\n",
    "        temp_next_shape = np.zeros((20, 10))\n",
    "        x0 = self.next_shape.x\n",
    "        next_shape = self.next_shape.get_shape()\n",
    "        temp_next_shape[0: next_shape.shape[0], x0: x0 + next_shape.shape[1]] += next_shape\n",
    "\n",
    "        return np.stack([temp_map, temp_shape, temp_next_shape], axis=-1).astype(np.float32)\n",
    "\n",
    "    def render(self):\n",
    "        pass\n",
    "    \n",
    "    def reset(self):\n",
    "        # restart state\n",
    "        self._state_gen()\n",
    "        # not terminal\n",
    "        return self._state_observe()\n",
    "\n",
    "    def step(self, action):\n",
    "        action = action + 1\n",
    "        reward = 0.01\n",
    "        # 0 is skip\n",
    "        # 1 is left\n",
    "        if action == 1:\n",
    "            if self.can_move(self.shape.x - 1, int(self.shape.y), self.shape.get_shape()):\n",
    "                self.shape.x -= 1\n",
    "            else:\n",
    "                #reward -= 1\n",
    "                pass\n",
    "        # 2 is right\n",
    "        elif action == 2:\n",
    "            if self.can_move(self.shape.x + 1, int(self.shape.y), self.shape.get_shape()):\n",
    "                self.shape.x += 1\n",
    "            else:\n",
    "                #reward -= 1\n",
    "                pass\n",
    "        # 3 is down\n",
    "        elif action == 3:\n",
    "            if self.can_move(self.shape.x, int(self.shape.y + 1), self.shape.get_shape()):\n",
    "                self.shape.y += 1\n",
    "            else:\n",
    "                #reward -= 1\n",
    "                pass\n",
    "        # 4 is rotate\n",
    "        elif action == 4:\n",
    "            if self.can_move(self.shape.x, int(self.shape.y), self.shape.get_rotated()):\n",
    "                self.shape.rotate()\n",
    "            else:\n",
    "                #reward -= 1\n",
    "                pass\n",
    "        # move down\n",
    "        if self.can_move(self.shape.x, int(self.shape.y + FALL_SPEED), self.shape.get_shape()):\n",
    "            self.shape.y += FALL_SPEED\n",
    "        else:\n",
    "            reward += self.lock_figure()\n",
    "\n",
    "            #reward for height of locked shapes\n",
    "            #height = self.map[GAME_SHAPE_TOP_HIDDEN: -GAME_SHAPE_BORDERS, GAME_SHAPE_BORDERS: -GAME_SHAPE_BORDERS]\n",
    "            #height = np.where(height.sum(axis=1) == 0)[0]\n",
    "            #reward += (height.size) / 5\n",
    "        \n",
    "        # reward for cleared rows\n",
    "        reward += self.remove_full_rows()\n",
    "        \n",
    "        return self._state_observe(), reward, self.game_over, {}\n",
    "\n",
    "\n",
    "    def at(self, x, y):\n",
    "        return self.map[GAME_SHAPE_TOP_HIDDEN + y, GAME_SHAPE_BORDERS + x]\n",
    "\n",
    "    def can_move(self, x0, y0, figure):\n",
    "        temp = self.map.copy()\n",
    "        temp[int(y0): int(y0 + figure.shape[0]), x0: x0 + figure.shape[1]] += figure\n",
    "        if 2 in temp:\n",
    "            return False\n",
    "        else:\n",
    "            return True\n",
    "\n",
    "    def lock_figure(self):\n",
    "        x = self.shape.x\n",
    "        y = int(self.shape.y)\n",
    "        figure = self.shape.get_shape()\n",
    "        self.map[y: y + figure.shape[0], x: x + figure.shape[1]] += figure\n",
    "        self.shape = self.next_shape\n",
    "        self.next_shape = Shape()\n",
    "        if y < GAME_SHAPE_TOP_HIDDEN:\n",
    "            self.game_over = True\n",
    "        return y - GAME_SHAPE_TOP_HIDDEN\n",
    "\n",
    "\n",
    "    def remove_full_rows(self):\n",
    "        reward = 0\n",
    "        full = self.map[GAME_SHAPE_TOP_HIDDEN: -GAME_SHAPE_BORDERS, GAME_SHAPE_BORDERS: -GAME_SHAPE_BORDERS]\n",
    "        full = np.where(full.sum(axis=1) == 10)[0]\n",
    "        if full.size > 0:\n",
    "            reward = full.size * 10\n",
    "\n",
    "            # to get indexes of the game screen\n",
    "            full = full + GAME_SHAPE_TOP_HIDDEN\n",
    "\n",
    "            # remove full rows\n",
    "            self.map[full, GAME_SHAPE_BORDERS: -GAME_SHAPE_BORDERS] = 0\n",
    "\n",
    "            # get non-empty rows\n",
    "            partial = self.map[GAME_SHAPE_TOP_HIDDEN: -GAME_SHAPE_BORDERS, GAME_SHAPE_BORDERS: -GAME_SHAPE_BORDERS]\n",
    "            partial = np.where(partial.sum(axis=1) != 0)[0]\n",
    "\n",
    "            # if there are levitating non-empty rows\n",
    "            if partial.size > 0:\n",
    "                # get their indexes\n",
    "                partial = partial + GAME_SHAPE_TOP_HIDDEN\n",
    "                bottom = self.map.shape[0] - GAME_SHAPE_BORDERS\n",
    "                # move them to bottom\n",
    "                self.map[bottom-partial.size: bottom, GAME_SHAPE_BORDERS: -GAME_SHAPE_BORDERS] = \\\n",
    "                    self.map[partial, GAME_SHAPE_BORDERS: -GAME_SHAPE_BORDERS]\n",
    "                # everything above must be cleared\n",
    "                self.map[0: bottom-partial.size, GAME_SHAPE_BORDERS: -GAME_SHAPE_BORDERS] = 0\n",
    "        return reward"
   ]
  },
  {
   "cell_type": "markdown",
   "metadata": {},
   "source": [
    "## Create env"
   ]
  },
  {
   "cell_type": "code",
   "execution_count": 152,
   "metadata": {},
   "outputs": [],
   "source": [
    "env = GameEnv()"
   ]
  },
  {
   "cell_type": "markdown",
   "metadata": {},
   "source": [
    "## Test Random"
   ]
  },
  {
   "cell_type": "code",
   "execution_count": 153,
   "metadata": {},
   "outputs": [
    {
     "name": "stdout",
     "output_type": "stream",
     "text": [
      "Episode: 1, Score: 134.78000000000034, Steps: 578\n",
      "Episode: 2, Score: 241.17999999999628, Steps: 1018\n",
      "Episode: 3, Score: 249.0999999999964, Steps: 1010\n",
      "Episode: 4, Score: 208.48999999999742, Steps: 849\n",
      "Episode: 5, Score: 223.25999999999652, Steps: 926\n",
      "Episode: 6, Score: 176.21999999999895, Steps: 722\n",
      "Episode: 7, Score: 176.75999999999834, Steps: 776\n",
      "Episode: 8, Score: 170.54999999999947, Steps: 655\n",
      "Episode: 9, Score: 219.22999999999703, Steps: 923\n",
      "Episode: 10, Score: 208.10999999999734, Steps: 911\n",
      "Episode: 11, Score: 247.28999999999672, Steps: 1029\n",
      "Episode: 12, Score: 211.3699999999972, Steps: 837\n",
      "Episode: 13, Score: 218.20999999999685, Steps: 921\n",
      "Episode: 14, Score: 214.779999999998, Steps: 878\n",
      "Episode: 15, Score: 176.20999999999904, Steps: 721\n",
      "Episode: 16, Score: 264.35999999999615, Steps: 1036\n",
      "Episode: 17, Score: 224.6099999999974, Steps: 861\n",
      "Episode: 18, Score: 223.87999999999676, Steps: 888\n",
      "Episode: 19, Score: 155.2799999999996, Steps: 628\n",
      "Episode: 20, Score: 242.2899999999959, Steps: 1029\n",
      "Episode: 21, Score: 186.23999999999882, Steps: 724\n",
      "Episode: 22, Score: 203.8299999999981, Steps: 783\n",
      "Episode: 23, Score: 186.59999999999877, Steps: 760\n",
      "Episode: 24, Score: 220.959999999997, Steps: 896\n",
      "Episode: 25, Score: 235.42999999999688, Steps: 943\n"
     ]
    }
   ],
   "source": [
    "episodes = 25\n",
    "for episode in range(1, episodes+1):\n",
    "    state = env.reset()\n",
    "    done = False\n",
    "    score = 0\n",
    "    steps = 0\n",
    "    while not done:\n",
    "        action = np.random.randint(0, 4)\n",
    "        n_state, reward, done, info = env.step(action)\n",
    "        score+=reward\n",
    "        steps +=1\n",
    "    print(\"Episode: {}, Score: {}, Steps: {}\".format(episode, score, steps))"
   ]
  },
  {
   "cell_type": "markdown",
   "metadata": {},
   "source": [
    "## Test do-nothing"
   ]
  },
  {
   "cell_type": "code",
   "execution_count": 154,
   "metadata": {},
   "outputs": [
    {
     "name": "stdout",
     "output_type": "stream",
     "text": [
      "Episode: 1, Score: 90.11000000000115, Steps: 911\n",
      "Episode: 2, Score: 95.44000000000123, Steps: 944\n",
      "Episode: 3, Score: 96.51000000000136, Steps: 951\n",
      "Episode: 4, Score: 95.45000000000134, Steps: 945\n",
      "Episode: 5, Score: 96.85000000000153, Steps: 985\n",
      "Episode: 6, Score: 113.91000000000258, Steps: 1091\n",
      "Episode: 7, Score: 93.31000000000121, Steps: 931\n",
      "Episode: 8, Score: 104.32000000000178, Steps: 1032\n",
      "Episode: 9, Score: 104.31000000000168, Steps: 1031\n",
      "Episode: 10, Score: 95.45000000000134, Steps: 945\n",
      "Episode: 11, Score: 116.0500000000025, Steps: 1105\n",
      "Episode: 12, Score: 107.18000000000212, Steps: 1018\n",
      "Episode: 13, Score: 97.59000000000191, Steps: 959\n",
      "Episode: 14, Score: 112.85000000000244, Steps: 1085\n",
      "Episode: 15, Score: 105.39000000000236, Steps: 1039\n",
      "Episode: 16, Score: 94.3800000000012, Steps: 938\n",
      "Episode: 17, Score: 94.37000000000124, Steps: 937\n",
      "Episode: 18, Score: 97.5700000000014, Steps: 957\n",
      "Episode: 19, Score: 102.91000000000211, Steps: 991\n",
      "Episode: 20, Score: 105.05000000000214, Steps: 1005\n",
      "Episode: 21, Score: 96.52000000000191, Steps: 952\n",
      "Episode: 22, Score: 100.06000000000165, Steps: 1006\n",
      "Episode: 23, Score: 92.25000000000122, Steps: 925\n",
      "Episode: 24, Score: 105.05000000000214, Steps: 1005\n",
      "Episode: 25, Score: 96.85000000000154, Steps: 985\n"
     ]
    }
   ],
   "source": [
    "episodes = 25\n",
    "for episode in range(1, episodes+1):\n",
    "    state = env.reset()\n",
    "    done = False\n",
    "    score = 0\n",
    "    steps = 0\n",
    "    while not done:\n",
    "        action = 0\n",
    "        n_state, reward, done, info = env.step(action)\n",
    "        score+=reward\n",
    "        steps +=1\n",
    "    print(\"Episode: {}, Score: {}, Steps: {}\".format(episode, score, steps))"
   ]
  },
  {
   "cell_type": "markdown",
   "metadata": {},
   "source": [
    "# Nural Network and Agent"
   ]
  },
  {
   "cell_type": "markdown",
   "metadata": {},
   "source": [
    "## Build model"
   ]
  },
  {
   "cell_type": "code",
   "execution_count": 155,
   "metadata": {},
   "outputs": [
    {
     "data": {
      "text/plain": [
       "[PhysicalDevice(name='/physical_device:GPU:0', device_type='GPU')]"
      ]
     },
     "execution_count": 155,
     "metadata": {},
     "output_type": "execute_result"
    }
   ],
   "source": [
    "tf.config.list_physical_devices(\"GPU\")"
   ]
  },
  {
   "cell_type": "code",
   "execution_count": 156,
   "metadata": {},
   "outputs": [],
   "source": [
    "def build_model():\n",
    "    return tf.keras.Sequential([\n",
    "    # 1 state, 20 rows, 10 cols, 3 matricies: locked, falling and next figures\n",
    "    layers.Input(shape=(1, 20, 10, 3)),\n",
    "    layers.Reshape(target_shape=(20, 10, 3)),\n",
    "    \n",
    "    layers.Conv2D(filters=32, kernel_size=(3, 3), padding=\"same\"),\n",
    "    layers.Activation(\"relu\"),\n",
    "    layers.MaxPool2D(),\n",
    "    \n",
    "    layers.Conv2D(filters=64, kernel_size=(3, 3), padding=\"same\"),\n",
    "    layers.Activation(\"relu\"),\n",
    "    layers.MaxPool2D(),\n",
    "    \n",
    "    layers.Flatten(),\n",
    "    \n",
    "    layers.Dense(32),\n",
    "    layers.Activation(\"relu\"),\n",
    "    \n",
    "    layers.Dense(16),\n",
    "    layers.Activation(\"relu\"),\n",
    "    \n",
    "    layers.Dense(4)])"
   ]
  },
  {
   "cell_type": "code",
   "execution_count": 157,
   "metadata": {},
   "outputs": [
    {
     "name": "stdout",
     "output_type": "stream",
     "text": [
      "Model: \"sequential_11\"\n",
      "_________________________________________________________________\n",
      " Layer (type)                Output Shape              Param #   \n",
      "=================================================================\n",
      " reshape_6 (Reshape)         (None, 20, 10, 3)         0         \n",
      "                                                                 \n",
      " conv2d_12 (Conv2D)          (None, 20, 10, 32)        896       \n",
      "                                                                 \n",
      " activation_43 (Activation)  (None, 20, 10, 32)        0         \n",
      "                                                                 \n",
      " max_pooling2d_12 (MaxPoolin  (None, 10, 5, 32)        0         \n",
      " g2D)                                                            \n",
      "                                                                 \n",
      " conv2d_13 (Conv2D)          (None, 10, 5, 64)         18496     \n",
      "                                                                 \n",
      " activation_44 (Activation)  (None, 10, 5, 64)         0         \n",
      "                                                                 \n",
      " max_pooling2d_13 (MaxPoolin  (None, 5, 2, 64)         0         \n",
      " g2D)                                                            \n",
      "                                                                 \n",
      " flatten_11 (Flatten)        (None, 640)               0         \n",
      "                                                                 \n",
      " dense_48 (Dense)            (None, 32)                20512     \n",
      "                                                                 \n",
      " activation_45 (Activation)  (None, 32)                0         \n",
      "                                                                 \n",
      " dense_49 (Dense)            (None, 16)                528       \n",
      "                                                                 \n",
      " activation_46 (Activation)  (None, 16)                0         \n",
      "                                                                 \n",
      " dense_50 (Dense)            (None, 4)                 68        \n",
      "                                                                 \n",
      "=================================================================\n",
      "Total params: 40,500\n",
      "Trainable params: 40,500\n",
      "Non-trainable params: 0\n",
      "_________________________________________________________________\n"
     ]
    }
   ],
   "source": [
    "model = build_model()\n",
    "model.summary()"
   ]
  },
  {
   "cell_type": "markdown",
   "metadata": {},
   "source": [
    "## Agent"
   ]
  },
  {
   "cell_type": "code",
   "execution_count": 158,
   "metadata": {},
   "outputs": [
    {
     "data": {
      "text/plain": [
       "((20, 10, 3), 4)"
      ]
     },
     "execution_count": 158,
     "metadata": {},
     "output_type": "execute_result"
    }
   ],
   "source": [
    "env.observation_space.shape, env.action_space.n"
   ]
  },
  {
   "cell_type": "code",
   "execution_count": 159,
   "metadata": {},
   "outputs": [],
   "source": [
    "def build_agent(model):\n",
    "    #policy = MaxBoltzmannQPolicy()\n",
    "    policy = LinearAnnealedPolicy(EpsGreedyQPolicy(), \n",
    "                              attr='eps',\n",
    "                              value_max=1.0,\n",
    "                              value_min=0.01,\n",
    "                              value_test=.05,\n",
    "                              nb_steps=75000)\n",
    "    memory = SequentialMemory(limit=10000, window_length=1)\n",
    "    dqn = DQNAgent(model=model, \n",
    "        memory=memory,\n",
    "        policy=policy,\n",
    "        nb_actions=4,\n",
    "        nb_steps_warmup=256,\n",
    "        batch_size=128,\n",
    "        target_model_update=0.01,\n",
    "        enable_double_dqn=True,\n",
    "        enable_dueling_network=True)\n",
    "    return dqn"
   ]
  },
  {
   "cell_type": "code",
   "execution_count": 160,
   "metadata": {},
   "outputs": [],
   "source": [
    "dqn = build_agent(model)\n",
    "dqn.compile(tf.keras.optimizers.Adam(learning_rate=0.0001, clipnorm=1.0), metrics=[\"mean_squared_error\"])"
   ]
  },
  {
   "cell_type": "code",
   "execution_count": 161,
   "metadata": {},
   "outputs": [],
   "source": [
    "#dqn.load_weights(\"saved/dqn_v6.h5\")\n",
    "\n",
    "#from keras import backend as K\n",
    "#print(K.eval(dqn.model.optimizer.learning_rate))\n",
    "#K.set_value(dqn.model.optimizer.learning_rate, 0.001)\n",
    "#print(K.eval(dqn.model.optimizer.learning_rate))"
   ]
  },
  {
   "cell_type": "markdown",
   "metadata": {},
   "source": [
    "## Training"
   ]
  },
  {
   "cell_type": "code",
   "execution_count": 162,
   "metadata": {},
   "outputs": [
    {
     "name": "stdout",
     "output_type": "stream",
     "text": [
      "Training for 175000 steps ...\n",
      "Interval 1 (0 steps performed)\n"
     ]
    },
    {
     "name": "stderr",
     "output_type": "stream",
     "text": [
      "E:\\Programs\\Anaconda\\envs\\game.ai\\lib\\site-packages\\keras\\engine\\training_v1.py:2079: UserWarning: `Model.state_updates` will be removed in a future version. This property should not be used in TensorFlow 2.0, as `updates` are applied automatically.\n",
      "  updates=self.state_updates,\n"
     ]
    },
    {
     "name": "stdout",
     "output_type": "stream",
     "text": [
      "10000/10000 [==============================] - 350s 35ms/step - reward: 0.2684\n",
      "12 episodes - episode_reward: 209.466 [131.800, 265.910] - loss: 0.459 - mean_squared_error: 612.061 - mean_q: 25.343 - mean_eps: 0.932\n",
      "\n",
      "Interval 2 (10000 steps performed)\n",
      "10000/10000 [==============================] - 384s 38ms/step - reward: 0.2872\n",
      "13 episodes - episode_reward: 221.033 [177.290, 247.160] - loss: 0.374 - mean_squared_error: 1564.992 - mean_q: 44.209 - mean_eps: 0.802\n",
      "\n",
      "Interval 3 (20000 steps performed)\n",
      "10000/10000 [==============================] - 391s 39ms/step - reward: 0.3086\n",
      "14 episodes - episode_reward: 219.055 [159.010, 260.800] - loss: 0.247 - mean_squared_error: 1672.829 - mean_q: 44.470 - mean_eps: 0.670\n",
      "\n",
      "Interval 4 (30000 steps performed)\n",
      "10000/10000 [==============================] - 398s 40ms/step - reward: 0.3486\n",
      "17 episodes - episode_reward: 216.120 [168.720, 254.330] - loss: 0.198 - mean_squared_error: 1627.543 - mean_q: 42.401 - mean_eps: 0.538\n",
      "\n",
      "Interval 5 (40000 steps performed)\n",
      "10000/10000 [==============================] - 390s 39ms/step - reward: 0.3532\n",
      "16 episodes - episode_reward: 211.536 [176.400, 275.940] - loss: 0.187 - mean_squared_error: 1490.934 - mean_q: 39.836 - mean_eps: 0.406\n",
      "\n",
      "Interval 6 (50000 steps performed)\n",
      "10000/10000 [==============================] - 402s 40ms/step - reward: 0.3886\n",
      "18 episodes - episode_reward: 222.220 [107.390, 285.970] - loss: 0.198 - mean_squared_error: 1353.304 - mean_q: 37.163 - mean_eps: 0.274\n",
      "\n",
      "Interval 7 (60000 steps performed)\n",
      "10000/10000 [==============================] - 393s 39ms/step - reward: 0.3393\n",
      "16 episodes - episode_reward: 199.972 [152.550, 258.790] - loss: 0.154 - mean_squared_error: 1239.889 - mean_q: 34.582 - mean_eps: 0.142\n",
      "\n",
      "Interval 8 (70000 steps performed)\n",
      "10000/10000 [==============================] - 378s 38ms/step - reward: 0.4106\n",
      "18 episodes - episode_reward: 227.020 [203.720, 257.060] - loss: 0.126 - mean_squared_error: 1107.508 - mean_q: 31.603 - mean_eps: 0.027\n",
      "\n",
      "Interval 9 (80000 steps performed)\n",
      "10000/10000 [==============================] - 374s 37ms/step - reward: 0.4027\n",
      "19 episodes - episode_reward: 220.649 [154.970, 257.850] - loss: 0.106 - mean_squared_error: 1159.071 - mean_q: 32.276 - mean_eps: 0.010\n",
      "\n",
      "Interval 10 (90000 steps performed)\n",
      "10000/10000 [==============================] - 374s 37ms/step - reward: 0.3648\n",
      "16 episodes - episode_reward: 219.267 [185.970, 278.510] - loss: 0.093 - mean_squared_error: 1064.446 - mean_q: 29.731 - mean_eps: 0.010\n",
      "\n",
      "Interval 11 (100000 steps performed)\n",
      "10000/10000 [==============================] - 375s 37ms/step - reward: 0.4155\n",
      "19 episodes - episode_reward: 217.601 [162.730, 261.830] - loss: 0.087 - mean_squared_error: 1043.105 - mean_q: 29.231 - mean_eps: 0.010\n",
      "\n",
      "Interval 12 (110000 steps performed)\n",
      "10000/10000 [==============================] - 367s 37ms/step - reward: 0.3876\n",
      "18 episodes - episode_reward: 226.892 [192.110, 246.270] - loss: 0.085 - mean_squared_error: 1163.796 - mean_q: 31.642 - mean_eps: 0.010\n",
      "\n",
      "Interval 13 (120000 steps performed)\n",
      "10000/10000 [==============================] - 388s 39ms/step - reward: 0.3968\n",
      "18 episodes - episode_reward: 216.103 [133.100, 262.020] - loss: 0.096 - mean_squared_error: 1104.110 - mean_q: 30.505 - mean_eps: 0.010\n",
      "\n",
      "Interval 14 (130000 steps performed)\n",
      "10000/10000 [==============================] - 384s 38ms/step - reward: 0.4116\n",
      "17 episodes - episode_reward: 235.185 [197.620, 285.300] - loss: 0.118 - mean_squared_error: 1146.181 - mean_q: 31.431 - mean_eps: 0.010\n",
      "\n",
      "Interval 15 (140000 steps performed)\n",
      "10000/10000 [==============================] - 407s 41ms/step - reward: 0.4038\n",
      "19 episodes - episode_reward: 224.609 [162.000, 257.510] - loss: 0.094 - mean_squared_error: 1210.843 - mean_q: 32.695 - mean_eps: 0.010\n",
      "\n",
      "Interval 16 (150000 steps performed)\n",
      "10000/10000 [==============================] - 407s 41ms/step - reward: 0.4150\n",
      "19 episodes - episode_reward: 214.473 [179.390, 251.600] - loss: 0.092 - mean_squared_error: 1158.162 - mean_q: 31.443 - mean_eps: 0.010\n",
      "\n",
      "Interval 17 (160000 steps performed)\n",
      "10000/10000 [==============================] - 404s 40ms/step - reward: 0.4054\n",
      "18 episodes - episode_reward: 221.386 [187.400, 256.240] - loss: 0.081 - mean_squared_error: 1118.278 - mean_q: 30.780 - mean_eps: 0.010\n",
      "\n",
      "Interval 18 (170000 steps performed)\n",
      " 4999/10000 [=============>................] - ETA: 3:11 - reward: 0.4337done, took 6757.169 seconds\n"
     ]
    }
   ],
   "source": [
    "history = dqn.fit(env, nb_steps=175000, visualize=False, verbose=1, log_interval=10000)"
   ]
  },
  {
   "cell_type": "markdown",
   "metadata": {},
   "source": [
    "## Save Weights"
   ]
  },
  {
   "cell_type": "code",
   "execution_count": 163,
   "metadata": {},
   "outputs": [],
   "source": [
    "dqn.save_weights(\"saved/dqn_v9.h5\", overwrite=True)"
   ]
  },
  {
   "cell_type": "markdown",
   "metadata": {},
   "source": [
    "## Plot"
   ]
  },
  {
   "cell_type": "code",
   "execution_count": 164,
   "metadata": {},
   "outputs": [
    {
     "data": {
      "image/png": "[encoded data removed]",
      "text/plain": [
       "<Figure size 1152x576 with 1 Axes>"
      ]
     },
     "metadata": {
      "needs_background": "light"
     },
     "output_type": "display_data"
    }
   ],
   "source": [
    "# load history\n",
    "#full_hist = np.load(\"saved/history.npy\")\n",
    "# concat old and new history\n",
    "#full_hist = np.concatenate((full_hist, np.array(history.history[\"episode_reward\"])))\n",
    "# save history\n",
    "#np.save(\"saved/history.npy\", full_hist)\n",
    "np.save(\"saved/history8.npy\", np.array(history.history[\"episode_reward\"]))\n",
    "\n",
    "plt.rcParams[\"figure.figsize\"] = (16, 8)\n",
    "#plt.plot(moving_average(full_hist, 10))\n",
    "#plt.plot(full_hist)\n",
    "plt.plot(np.array(history.history[\"episode_reward\"]))\n",
    "plt.show()"
   ]
  },
  {
   "cell_type": "code",
   "execution_count": null,
   "metadata": {},
   "outputs": [],
   "source": []
  }
 ],
 "metadata": {
  "interpreter": {
   "hash": "32700bc3807e85cff4169f1494086cde6a49298b14454c6caa68f1dd2006857d"
  },
  "kernelspec": {
   "display_name": "Python 3.9.7 64-bit ('game.ai': conda)",
   "language": "python",
   "name": "python3"
  },
  "language_info": {
   "codemirror_mode": {
    "name": "ipython",
    "version": 3
   },
   "file_extension": ".py",
   "mimetype": "text/x-python",
   "name": "python",
   "nbconvert_exporter": "python",
   "pygments_lexer": "ipython3",
   "version": "3.9.7"
  },
  "orig_nbformat": 4
 },
 "nbformat": 4,
 "nbformat_minor": 2
}
