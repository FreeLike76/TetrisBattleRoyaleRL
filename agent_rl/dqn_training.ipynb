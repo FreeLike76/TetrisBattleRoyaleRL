{
 "cells": [
  {
   "cell_type": "markdown",
   "metadata": {},
   "source": [
    "# DQN Training\n",
    "Training a DQN agent using custom gym environment and keras-rl2."
   ]
  },
  {
   "cell_type": "markdown",
   "metadata": {},
   "source": [
    "# Imports"
   ]
  },
  {
   "cell_type": "code",
   "execution_count": 25,
   "metadata": {},
   "outputs": [],
   "source": [
    "import numpy as np\n",
    "import matplotlib.pyplot as plt\n",
    "\n",
    "import tensorflow as tf\n",
    "import tensorflow.keras as keras\n",
    "import tensorflow.keras.layers as layers\n",
    "\n",
    "from gym import Env\n",
    "from gym.spaces import Discrete, Box\n",
    "\n",
    "from rl.agents import DQNAgent\n",
    "from rl.policy import MaxBoltzmannQPolicy, EpsGreedyQPolicy\n",
    "from rl.memory import SequentialMemory"
   ]
  },
  {
   "cell_type": "markdown",
   "metadata": {},
   "source": [
    "## Functions"
   ]
  },
  {
   "cell_type": "code",
   "execution_count": 3,
   "metadata": {},
   "outputs": [],
   "source": [
    "def moving_average(x, w):\n",
    "    return np.convolve(x, np.ones(w), \"valid\") / w"
   ]
  },
  {
   "cell_type": "markdown",
   "metadata": {},
   "source": [
    "# Environment"
   ]
  },
  {
   "cell_type": "markdown",
   "metadata": {},
   "source": [
    "## Loading Shape Class"
   ]
  },
  {
   "cell_type": "code",
   "execution_count": 4,
   "metadata": {},
   "outputs": [],
   "source": [
    "import sys  \n",
    "sys.path.insert(0, \"E:\\Projects\\Python\\TetrisRoyaleRL\")\n",
    "\n",
    "from settings import *\n",
    "from game_env.shapes import Shape"
   ]
  },
  {
   "cell_type": "markdown",
   "metadata": {},
   "source": [
    "## Reworking the Environment"
   ]
  },
  {
   "cell_type": "code",
   "execution_count": 14,
   "metadata": {},
   "outputs": [],
   "source": [
    "class GameEnv(Env):\n",
    "    def __init__(self):\n",
    "        # spaces\n",
    "        self.action_space = Discrete(5)\n",
    "        self.observation_space = Box(low=0.0, high=1.0, shape=(20, 10, 3))\n",
    "        \n",
    "        # state\n",
    "        self.game_over = None\n",
    "\n",
    "        # coord\n",
    "        self.map = None\n",
    "\n",
    "        # shape\n",
    "        self.shape = None\n",
    "        self.next_shape = None\n",
    "\n",
    "        # init env\n",
    "        self._state_gen()\n",
    "\n",
    "    def _state_gen(self):\n",
    "        self.game_over = False\n",
    "        \n",
    "        self.map = np.ones((GAME_SHAPE_TOP_HIDDEN + 20 + GAME_SHAPE_BORDERS,\n",
    "                            GAME_SHAPE_BORDERS + 10 + GAME_SHAPE_BORDERS), dtype=np.int32)\n",
    "        self.map[0: -GAME_SHAPE_BORDERS, GAME_SHAPE_BORDERS: -GAME_SHAPE_BORDERS] = 0\n",
    "        \n",
    "        self.shape = Shape()\n",
    "        self.next_shape = Shape()\n",
    "\n",
    "    def _state_observe(self):\n",
    "        # observable map\n",
    "        temp_map = self.map[GAME_SHAPE_TOP_HIDDEN:-GAME_SHAPE_BORDERS, GAME_SHAPE_BORDERS: -GAME_SHAPE_BORDERS].copy()\n",
    "        \n",
    "        # observation of cur shape on map\n",
    "        temp_shape = np.zeros(self.map.shape)\n",
    "        x0 = self.shape.x\n",
    "        y0 = int(self.shape.y)\n",
    "        this_shape = self.shape.get_shape()\n",
    "        temp_shape[y0: y0 + this_shape.shape[0], x0: x0 + this_shape.shape[1]] += this_shape\n",
    "        temp_shape = temp_shape[GAME_SHAPE_TOP_HIDDEN:-GAME_SHAPE_BORDERS, GAME_SHAPE_BORDERS: -GAME_SHAPE_BORDERS]\n",
    "        \n",
    "        # next shape on map, assuming y0 = 0\n",
    "        temp_next_shape = np.zeros((20, 10))\n",
    "        x0 = self.next_shape.x\n",
    "        next_shape = self.next_shape.get_shape()\n",
    "        temp_next_shape[0: next_shape.shape[0], x0: x0 + next_shape.shape[1]] += next_shape\n",
    "\n",
    "        return np.stack([temp_map, temp_shape, temp_next_shape], axis=-1).astype(np.float32)\n",
    "\n",
    "    def render(self):\n",
    "        pass\n",
    "    \n",
    "    def reset(self):\n",
    "        # restart state\n",
    "        self._state_gen()\n",
    "        # not terminal\n",
    "        return self._state_observe()\n",
    "\n",
    "    def step(self, action):\n",
    "        reward = 0.001\n",
    "        # 0 is skip - REMOVED\n",
    "        # 1 is left\n",
    "        if action == 1:\n",
    "            if self.can_move(self.shape.x - 1, int(self.shape.y), self.shape.get_shape()):\n",
    "                self.shape.x -= 1\n",
    "            else:\n",
    "                #reward -= 1\n",
    "                pass\n",
    "        # 2 is right\n",
    "        elif action == 2:\n",
    "            if self.can_move(self.shape.x + 1, int(self.shape.y), self.shape.get_shape()):\n",
    "                self.shape.x += 1\n",
    "            else:\n",
    "                #reward -= 1\n",
    "                pass\n",
    "        # 3 is down\n",
    "        elif action == 3:\n",
    "            if self.can_move(self.shape.x, int(self.shape.y + 1), self.shape.get_shape()):\n",
    "                self.shape.y += 1\n",
    "            else:\n",
    "                #reward -= 1\n",
    "                pass\n",
    "        # 4 is rotate\n",
    "        elif action == 4:\n",
    "            if self.can_move(self.shape.x, int(self.shape.y), self.shape.get_rotated()):\n",
    "                self.shape.rotate()\n",
    "            else:\n",
    "                #reward -= 1\n",
    "                pass\n",
    "        # move down\n",
    "        if self.can_move(self.shape.x, int(self.shape.y + FALL_SPEED), self.shape.get_shape()):\n",
    "            self.shape.y += FALL_SPEED\n",
    "        else:\n",
    "            self.lock_figure()\n",
    "\n",
    "            #reward for height of locked shapes\n",
    "            height = self.map[GAME_SHAPE_TOP_HIDDEN: -GAME_SHAPE_BORDERS, GAME_SHAPE_BORDERS: -GAME_SHAPE_BORDERS]\n",
    "            height = np.where(height.sum(axis=1) == 0)[0]\n",
    "            reward += (height.size) / 5\n",
    "        \n",
    "        # reward for cleared rows\n",
    "        reward += self.remove_full_rows()\n",
    "        \n",
    "        return self._state_observe(), reward, self.game_over, {}\n",
    "\n",
    "\n",
    "    def at(self, x, y):\n",
    "        return self.map[GAME_SHAPE_TOP_HIDDEN + y, GAME_SHAPE_BORDERS + x]\n",
    "\n",
    "    def can_move(self, x0, y0, figure):\n",
    "        temp = self.map.copy()\n",
    "        temp[int(y0): int(y0 + figure.shape[0]), x0: x0 + figure.shape[1]] += figure\n",
    "        if 2 in temp:\n",
    "            return False\n",
    "        else:\n",
    "            return True\n",
    "\n",
    "    def lock_figure(self):\n",
    "        x = self.shape.x\n",
    "        y = int(self.shape.y)\n",
    "        figure = self.shape.get_shape()\n",
    "        self.map[y: y + figure.shape[0], x: x + figure.shape[1]] += figure\n",
    "        self.shape = self.next_shape\n",
    "        self.next_shape = Shape()\n",
    "        if y < GAME_SHAPE_TOP_HIDDEN:\n",
    "            self.game_over = True\n",
    "\n",
    "\n",
    "    def remove_full_rows(self):\n",
    "        reward = 0\n",
    "        full = self.map[GAME_SHAPE_TOP_HIDDEN: -GAME_SHAPE_BORDERS, GAME_SHAPE_BORDERS: -GAME_SHAPE_BORDERS]\n",
    "        full = np.where(full.sum(axis=1) == 10)[0]\n",
    "        if full.size > 0:\n",
    "            reward = full.size * 10\n",
    "\n",
    "            # to get indexes of the game screen\n",
    "            full = full + GAME_SHAPE_TOP_HIDDEN\n",
    "\n",
    "            # remove full rows\n",
    "            self.map[full, GAME_SHAPE_BORDERS: -GAME_SHAPE_BORDERS] = 0\n",
    "\n",
    "            # get non-empty rows\n",
    "            partial = self.map[GAME_SHAPE_TOP_HIDDEN: -GAME_SHAPE_BORDERS, GAME_SHAPE_BORDERS: -GAME_SHAPE_BORDERS]\n",
    "            partial = np.where(partial.sum(axis=1) != 0)[0]\n",
    "\n",
    "            # if there are levitating non-empty rows\n",
    "            if partial.size > 0:\n",
    "                # get their indexes\n",
    "                partial = partial + GAME_SHAPE_TOP_HIDDEN\n",
    "                bottom = self.map.shape[0] - GAME_SHAPE_BORDERS\n",
    "                # move them to bottom\n",
    "                self.map[bottom-partial.size: bottom, GAME_SHAPE_BORDERS: -GAME_SHAPE_BORDERS] = \\\n",
    "                    self.map[partial, GAME_SHAPE_BORDERS: -GAME_SHAPE_BORDERS]\n",
    "                # everything above must be cleared\n",
    "                self.map[0: bottom-partial.size, GAME_SHAPE_BORDERS: -GAME_SHAPE_BORDERS] = 0\n",
    "        return reward"
   ]
  },
  {
   "cell_type": "markdown",
   "metadata": {},
   "source": [
    "## Create env"
   ]
  },
  {
   "cell_type": "code",
   "execution_count": 15,
   "metadata": {},
   "outputs": [],
   "source": [
    "env = GameEnv()"
   ]
  },
  {
   "cell_type": "markdown",
   "metadata": {},
   "source": [
    "## Test Random"
   ]
  },
  {
   "cell_type": "code",
   "execution_count": 16,
   "metadata": {},
   "outputs": [
    {
     "name": "stdout",
     "output_type": "stream",
     "text": [
      "Episode: 1, Score: 37.9899999999998, Steps: 990\n",
      "Episode: 2, Score: 23.732000000000202, Steps: 532\n",
      "Episode: 3, Score: 42.37799999999962, Steps: 978\n",
      "Episode: 4, Score: 38.56299999999984, Steps: 963\n",
      "Episode: 5, Score: 24.434000000000303, Steps: 834\n",
      "Episode: 6, Score: 40.76999999999973, Steps: 970\n",
      "Episode: 7, Score: 41.57099999999967, Steps: 971\n",
      "Episode: 8, Score: 39.281999999999805, Steps: 882\n",
      "Episode: 9, Score: 35.61400000000017, Steps: 814\n",
      "Episode: 10, Score: 29.766000000000425, Steps: 766\n",
      "Episode: 11, Score: 40.70199999999976, Steps: 902\n",
      "Episode: 12, Score: 35.42700000000013, Steps: 827\n",
      "Episode: 13, Score: 34.69000000000008, Steps: 890\n",
      "Episode: 14, Score: 38.973999999999634, Steps: 974\n",
      "Episode: 15, Score: 49.50099999999972, Steps: 901\n",
      "Episode: 16, Score: 39.29599999999991, Steps: 896\n",
      "Episode: 17, Score: 44.168999999999585, Steps: 969\n",
      "Episode: 18, Score: 44.70399999999946, Steps: 1104\n",
      "Episode: 19, Score: 41.30999999999963, Steps: 910\n",
      "Episode: 20, Score: 33.0010000000004, Steps: 801\n",
      "Episode: 21, Score: 42.3759999999996, Steps: 976\n",
      "Episode: 22, Score: 38.694999999999844, Steps: 895\n",
      "Episode: 23, Score: 31.527000000000427, Steps: 727\n",
      "Episode: 24, Score: 38.91999999999992, Steps: 920\n",
      "Episode: 25, Score: 35.59400000000001, Steps: 794\n"
     ]
    }
   ],
   "source": [
    "episodes = 25\n",
    "for episode in range(1, episodes+1):\n",
    "    state = env.reset()\n",
    "    done = False\n",
    "    score = 0\n",
    "    steps = 0\n",
    "    while not done:\n",
    "        action = np.random.randint(0, 5)\n",
    "        n_state, reward, done, info = env.step(action)\n",
    "        score+=reward\n",
    "        steps +=1\n",
    "    print(\"Episode: {}, Score: {}, Steps: {}\".format(episode, score, steps))"
   ]
  },
  {
   "cell_type": "markdown",
   "metadata": {},
   "source": [
    "## Test do-nothing"
   ]
  },
  {
   "cell_type": "code",
   "execution_count": 17,
   "metadata": {},
   "outputs": [
    {
     "name": "stdout",
     "output_type": "stream",
     "text": [
      "Episode: 1, Score: 20.34300000000016, Steps: 943\n",
      "Episode: 2, Score: 21.61000000000024, Steps: 1010\n",
      "Episode: 3, Score: 19.92500000000015, Steps: 925\n",
      "Episode: 4, Score: 20.131000000000146, Steps: 931\n",
      "Episode: 5, Score: 21.99800000000017, Steps: 998\n",
      "Episode: 6, Score: 22.226000000000205, Steps: 1026\n",
      "Episode: 7, Score: 19.931000000000157, Steps: 931\n",
      "Episode: 8, Score: 19.305000000000135, Steps: 905\n",
      "Episode: 9, Score: 22.851000000000237, Steps: 1051\n",
      "Episode: 10, Score: 22.846000000000412, Steps: 1046\n",
      "Episode: 11, Score: 21.81800000000022, Steps: 1018\n",
      "Episode: 12, Score: 20.752000000000145, Steps: 952\n",
      "Episode: 13, Score: 20.545000000000147, Steps: 945\n",
      "Episode: 14, Score: 21.171000000000177, Steps: 971\n",
      "Episode: 15, Score: 20.137000000000175, Steps: 937\n",
      "Episode: 16, Score: 22.230000000000253, Steps: 1030\n",
      "Episode: 17, Score: 29.93200000000072, Steps: 1332\n",
      "Episode: 18, Score: 20.96400000000017, Steps: 964\n",
      "Episode: 19, Score: 18.870000000000093, Steps: 870\n",
      "Episode: 20, Score: 20.752000000000145, Steps: 952\n",
      "Episode: 21, Score: 23.052000000000415, Steps: 1052\n",
      "Episode: 22, Score: 23.264000000000443, Steps: 1064\n",
      "Episode: 23, Score: 20.96400000000016, Steps: 964\n",
      "Episode: 24, Score: 19.511000000000145, Steps: 911\n",
      "Episode: 25, Score: 24.292000000000453, Steps: 1092\n"
     ]
    }
   ],
   "source": [
    "episodes = 25\n",
    "for episode in range(1, episodes+1):\n",
    "    state = env.reset()\n",
    "    done = False\n",
    "    score = 0\n",
    "    steps = 0\n",
    "    while not done:\n",
    "        action = 0\n",
    "        n_state, reward, done, info = env.step(action)\n",
    "        score+=reward\n",
    "        steps +=1\n",
    "    print(\"Episode: {}, Score: {}, Steps: {}\".format(episode, score, steps))"
   ]
  },
  {
   "cell_type": "markdown",
   "metadata": {},
   "source": [
    "# Nural Network and Agent"
   ]
  },
  {
   "cell_type": "markdown",
   "metadata": {},
   "source": [
    "## Build model"
   ]
  },
  {
   "cell_type": "code",
   "execution_count": 18,
   "metadata": {},
   "outputs": [
    {
     "data": {
      "text/plain": [
       "[PhysicalDevice(name='/physical_device:GPU:0', device_type='GPU')]"
      ]
     },
     "execution_count": 18,
     "metadata": {},
     "output_type": "execute_result"
    }
   ],
   "source": [
    "tf.config.list_physical_devices(\"GPU\")"
   ]
  },
  {
   "cell_type": "code",
   "execution_count": 19,
   "metadata": {},
   "outputs": [],
   "source": [
    "def build_model():\n",
    "    return tf.keras.Sequential([\n",
    "    # 1 state, 20 rows, 10 cols, 3 matricies: locked, falling and next figures\n",
    "    layers.Input(shape=(1, 20, 10, 3)),\n",
    "    layers.Reshape(target_shape=(20, 10, 3)),\n",
    "    \n",
    "    layers.Conv2D(filters=32, kernel_size=(3, 3), padding=\"same\"),\n",
    "    layers.Activation(\"relu\"),\n",
    "    layers.MaxPool2D(),\n",
    "    \n",
    "    layers.Conv2D(filters=64, kernel_size=(3, 3), padding=\"same\"),\n",
    "    layers.Activation(\"relu\"),\n",
    "    layers.MaxPool2D(),\n",
    "    \n",
    "    layers.Flatten(),\n",
    "    \n",
    "    layers.Dense(32),\n",
    "    layers.Activation(\"relu\"),\n",
    "    \n",
    "    layers.Dense(16),\n",
    "    layers.Activation(\"relu\"),\n",
    "    \n",
    "    layers.Dense(5)])"
   ]
  },
  {
   "cell_type": "code",
   "execution_count": 20,
   "metadata": {},
   "outputs": [
    {
     "name": "stdout",
     "output_type": "stream",
     "text": [
      "Model: \"sequential\"\n",
      "_________________________________________________________________\n",
      " Layer (type)                Output Shape              Param #   \n",
      "=================================================================\n",
      " reshape (Reshape)           (None, 20, 10, 3)         0         \n",
      "                                                                 \n",
      " conv2d (Conv2D)             (None, 20, 10, 32)        896       \n",
      "                                                                 \n",
      " activation (Activation)     (None, 20, 10, 32)        0         \n",
      "                                                                 \n",
      " max_pooling2d (MaxPooling2D  (None, 10, 5, 32)        0         \n",
      " )                                                               \n",
      "                                                                 \n",
      " conv2d_1 (Conv2D)           (None, 10, 5, 64)         18496     \n",
      "                                                                 \n",
      " activation_1 (Activation)   (None, 10, 5, 64)         0         \n",
      "                                                                 \n",
      " max_pooling2d_1 (MaxPooling  (None, 5, 2, 64)         0         \n",
      " 2D)                                                             \n",
      "                                                                 \n",
      " flatten (Flatten)           (None, 640)               0         \n",
      "                                                                 \n",
      " dense (Dense)               (None, 32)                20512     \n",
      "                                                                 \n",
      " activation_2 (Activation)   (None, 32)                0         \n",
      "                                                                 \n",
      " dense_1 (Dense)             (None, 16)                528       \n",
      "                                                                 \n",
      " activation_3 (Activation)   (None, 16)                0         \n",
      "                                                                 \n",
      " dense_2 (Dense)             (None, 5)                 85        \n",
      "                                                                 \n",
      "=================================================================\n",
      "Total params: 40,517\n",
      "Trainable params: 40,517\n",
      "Non-trainable params: 0\n",
      "_________________________________________________________________\n"
     ]
    }
   ],
   "source": [
    "model = build_model()\n",
    "model.summary()"
   ]
  },
  {
   "cell_type": "markdown",
   "metadata": {},
   "source": [
    "## Agent"
   ]
  },
  {
   "cell_type": "code",
   "execution_count": 21,
   "metadata": {},
   "outputs": [
    {
     "data": {
      "text/plain": [
       "((20, 10, 3), 5)"
      ]
     },
     "execution_count": 21,
     "metadata": {},
     "output_type": "execute_result"
    }
   ],
   "source": [
    "env.observation_space.shape, env.action_space.n"
   ]
  },
  {
   "cell_type": "code",
   "execution_count": 26,
   "metadata": {},
   "outputs": [],
   "source": [
    "def build_agent(model):\n",
    "    #policy = MaxBoltzmannQPolicy(eps=0.2)\n",
    "    policy = EpsGreedyQPolicy(eps=0.25)\n",
    "    memory = SequentialMemory(limit=4096, window_length=1)\n",
    "    dqn = DQNAgent(model=model, \n",
    "        memory=memory,\n",
    "        policy=policy,\n",
    "        nb_actions=5,\n",
    "        nb_steps_warmup=256,\n",
    "        batch_size=128,\n",
    "        target_model_update=0.01,\n",
    "        enable_double_dqn=True,\n",
    "        enable_dueling_network=True)\n",
    "    return dqn"
   ]
  },
  {
   "cell_type": "code",
   "execution_count": 27,
   "metadata": {},
   "outputs": [],
   "source": [
    "dqn = build_agent(model)\n",
    "dqn.compile(tf.keras.optimizers.Adam(learning_rate=0.001, clipnorm=1.0), metrics=[\"mean_squared_error\"])"
   ]
  },
  {
   "cell_type": "code",
   "execution_count": 28,
   "metadata": {},
   "outputs": [],
   "source": [
    "#dqn.load_weights(\"saved/dqn_v6.h5\")\n",
    "\n",
    "#from keras import backend as K\n",
    "#print(K.eval(dqn.model.optimizer.learning_rate))\n",
    "#K.set_value(dqn.model.optimizer.learning_rate, 0.001)\n",
    "#print(K.eval(dqn.model.optimizer.learning_rate))"
   ]
  },
  {
   "cell_type": "markdown",
   "metadata": {},
   "source": [
    "## Training"
   ]
  },
  {
   "cell_type": "code",
   "execution_count": 29,
   "metadata": {},
   "outputs": [
    {
     "name": "stdout",
     "output_type": "stream",
     "text": [
      "Training for 100000 steps ...\n",
      "Interval 1 (0 steps performed)\n"
     ]
    },
    {
     "name": "stderr",
     "output_type": "stream",
     "text": [
      "E:\\Programs\\Anaconda\\envs\\game.ai\\lib\\site-packages\\keras\\engine\\training_v1.py:2079: UserWarning: `Model.state_updates` will be removed in a future version. This property should not be used in TensorFlow 2.0, as `updates` are applied automatically.\n",
      "  updates=self.state_updates,\n"
     ]
    },
    {
     "name": "stdout",
     "output_type": "stream",
     "text": [
      "5000/5000 [==============================] - 186s 37ms/step - reward: 0.0484\n",
      "7 episodes - episode_reward: 31.257 [19.211, 45.404] - loss: 0.026 - mean_squared_error: 9.814 - mean_q: 2.633\n",
      "\n",
      "Interval 2 (5000 steps performed)\n",
      "5000/5000 [==============================] - 183s 37ms/step - reward: 0.0544\n",
      "8 episodes - episode_reward: 31.027 [23.605, 34.673] - loss: 0.010 - mean_squared_error: 29.656 - mean_q: 5.499\n",
      "\n",
      "Interval 3 (10000 steps performed)\n",
      "5000/5000 [==============================] - 172s 34ms/step - reward: 0.0674\n",
      "10 episodes - episode_reward: 35.094 [27.728, 48.051] - loss: 0.006 - mean_squared_error: 40.722 - mean_q: 6.285\n",
      "\n",
      "Interval 4 (15000 steps performed)\n",
      "5000/5000 [==============================] - 180s 36ms/step - reward: 0.0742\n",
      "12 episodes - episode_reward: 31.367 [18.064, 44.255] - loss: 0.006 - mean_squared_error: 50.826 - mean_q: 7.119\n",
      "\n",
      "Interval 5 (20000 steps performed)\n",
      " 760/5000 [===>..........................] - ETA: 2:26 - reward: 0.0660done, took 746.993 seconds\n"
     ]
    }
   ],
   "source": [
    "history = dqn.fit(env, nb_steps=100000, visualize=False, verbose=1, log_interval=5000)"
   ]
  },
  {
   "cell_type": "markdown",
   "metadata": {},
   "source": [
    "## Save Weights"
   ]
  },
  {
   "cell_type": "code",
   "execution_count": null,
   "metadata": {},
   "outputs": [],
   "source": [
    "dqn.save_weights(\"saved/dqn_v8.h5\", overwrite=True)"
   ]
  },
  {
   "cell_type": "markdown",
   "metadata": {},
   "source": [
    "## Plot"
   ]
  },
  {
   "cell_type": "code",
   "execution_count": null,
   "metadata": {},
   "outputs": [
    {
     "data": {
      "image/png": "[encoded data removed]",
      "text/plain": [
       "<Figure size 1152x576 with 1 Axes>"
      ]
     },
     "metadata": {
      "needs_background": "light"
     },
     "output_type": "display_data"
    }
   ],
   "source": [
    "# load history\n",
    "#full_hist = np.load(\"saved/history.npy\")\n",
    "# concat old and new history\n",
    "#full_hist = np.concatenate((full_hist, np.array(history.history[\"episode_reward\"])))\n",
    "# save history\n",
    "#np.save(\"saved/history.npy\", full_hist)\n",
    "np.save(\"saved/history8.npy\", np.array(history.history[\"episode_reward\"]))\n",
    "\n",
    "plt.rcParams[\"figure.figsize\"] = (16, 8)\n",
    "#plt.plot(moving_average(full_hist, 10))\n",
    "#plt.plot(full_hist)\n",
    "plt.plot(np.array(history.history[\"episode_reward\"]))\n",
    "plt.show()"
   ]
  },
  {
   "cell_type": "code",
   "execution_count": null,
   "metadata": {},
   "outputs": [],
   "source": []
  }
 ],
 "metadata": {
  "interpreter": {
   "hash": "32700bc3807e85cff4169f1494086cde6a49298b14454c6caa68f1dd2006857d"
  },
  "kernelspec": {
   "display_name": "Python 3.9.7 64-bit ('game.ai': conda)",
   "language": "python",
   "name": "python3"
  },
  "language_info": {
   "codemirror_mode": {
    "name": "ipython",
    "version": 3
   },
   "file_extension": ".py",
   "mimetype": "text/x-python",
   "name": "python",
   "nbconvert_exporter": "python",
   "pygments_lexer": "ipython3",
   "version": "3.9.7"
  },
  "orig_nbformat": 4
 },
 "nbformat": 4,
 "nbformat_minor": 2
}
