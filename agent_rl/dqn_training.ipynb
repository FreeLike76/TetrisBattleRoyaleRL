{
 "cells": [
  {
   "cell_type": "markdown",
   "metadata": {},
   "source": [
    "# DQN Training\n",
    "Training a DQN agent using custom gym environment and keras-rl2."
   ]
  },
  {
   "cell_type": "markdown",
   "metadata": {},
   "source": [
    "# Imports"
   ]
  },
  {
   "cell_type": "code",
   "execution_count": 1,
   "metadata": {},
   "outputs": [],
   "source": [
    "import numpy as np\n",
    "import matplotlib.pyplot as plt\n",
    "\n",
    "import tensorflow as tf\n",
    "import tensorflow.keras as keras\n",
    "import tensorflow.keras.layers as layers\n",
    "\n",
    "from gym import Env\n",
    "from gym.spaces import Discrete, Box\n",
    "\n",
    "from rl.agents import DQNAgent\n",
    "from rl.policy import MaxBoltzmannQPolicy, BoltzmannQPolicy, LinearAnnealedPolicy, EpsGreedyQPolicy\n",
    "from rl.memory import SequentialMemory"
   ]
  },
  {
   "cell_type": "markdown",
   "metadata": {},
   "source": [
    "## Functions"
   ]
  },
  {
   "cell_type": "code",
   "execution_count": 2,
   "metadata": {},
   "outputs": [],
   "source": [
    "def moving_average(x, w):\n",
    "    return np.convolve(x, np.ones(w), \"valid\") / w"
   ]
  },
  {
   "cell_type": "markdown",
   "metadata": {},
   "source": [
    "# Environment"
   ]
  },
  {
   "cell_type": "markdown",
   "metadata": {},
   "source": [
    "## Loading Shape Class"
   ]
  },
  {
   "cell_type": "code",
   "execution_count": 3,
   "metadata": {},
   "outputs": [],
   "source": [
    "import sys  \n",
    "sys.path.insert(0, \"E:\\Projects\\Python\\TetrisRoyaleRL\")\n",
    "\n",
    "from settings import *\n",
    "from game_env.shapes import Shape\n",
    "from game_env.game_env import GameEnv"
   ]
  },
  {
   "cell_type": "markdown",
   "metadata": {},
   "source": [
    "## Reworking the Environment"
   ]
  },
  {
   "cell_type": "markdown",
   "metadata": {},
   "source": [
    "## Define new functions"
   ]
  },
  {
   "cell_type": "code",
   "execution_count": 4,
   "metadata": {},
   "outputs": [],
   "source": [
    "def heuristic(self):\n",
    "        temp_map = self.map\n",
    "        # sum of heights\n",
    "        heights = 24 - np.argmax(temp_map[:, GAME_SHAPE_BORDERS: -GAME_SHAPE_BORDERS] == 1, axis=0)\n",
    "        sum_hights = heights.sum()\n",
    "\n",
    "        # bumpiness\n",
    "        bumpiness = 0\n",
    "        for i in range(heights.shape[0] - 1):\n",
    "            bumpiness += (heights[i] - heights[i + 1]) ** 2\n",
    "\n",
    "        # complete rows\n",
    "        temp_map = temp_map[GAME_SHAPE_TOP_HIDDEN: -GAME_SHAPE_BORDERS, GAME_SHAPE_BORDERS: -GAME_SHAPE_BORDERS]\n",
    "        complete_rows = (np.where(temp_map.sum(axis=1) == 10)[0]).size\n",
    "\n",
    "        # count of holes\n",
    "        holes = 0\n",
    "        for i in range(1, temp_map.shape[0]):\n",
    "            for j in range(temp_map.shape[1]):\n",
    "                if temp_map[i, j] == 0 and temp_map[i-1, j] == 1:\n",
    "                    holes += 1\n",
    "\n",
    "        total = -0.6 * sum_hights \\\n",
    "                + 0.75 * complete_rows \\\n",
    "                - 0.35 * holes \\\n",
    "                - 0.1 * bumpiness\n",
    "        return total / 10"
   ]
  },
  {
   "cell_type": "code",
   "execution_count": 5,
   "metadata": {},
   "outputs": [],
   "source": [
    "def new_state_observe(self):\n",
    "        # observable map\n",
    "        temp_map = self.map[GAME_SHAPE_TOP_HIDDEN:-GAME_SHAPE_BORDERS, GAME_SHAPE_BORDERS: -GAME_SHAPE_BORDERS].copy()\n",
    "        \n",
    "        # observation of cur shape on map\n",
    "        temp_shape = np.zeros(self.map.shape)\n",
    "        x0 = self.shape.x\n",
    "        y0 = int(self.shape.y)\n",
    "        this_shape = self.shape.get_shape()\n",
    "        temp_shape[y0: y0 + this_shape.shape[0], x0: x0 + this_shape.shape[1]] += this_shape\n",
    "        temp_shape = temp_shape[GAME_SHAPE_TOP_HIDDEN:-GAME_SHAPE_BORDERS, GAME_SHAPE_BORDERS: -GAME_SHAPE_BORDERS]\n",
    "        \n",
    "        # next shape on map, assuming y0 = 0\n",
    "        temp_next_shape = np.zeros((20, 10))\n",
    "        x0 = self.next_shape.x - GAME_SHAPE_BORDERS\n",
    "        next_shape = self.next_shape.get_shape()\n",
    "        temp_next_shape[0: next_shape.shape[0], x0: x0 + next_shape.shape[1]] += next_shape\n",
    "\n",
    "        return np.stack([temp_map, temp_shape, temp_next_shape], axis=-1).astype(np.float32)"
   ]
  },
  {
   "cell_type": "code",
   "execution_count": 6,
   "metadata": {},
   "outputs": [],
   "source": [
    "def reward_alive(self):\n",
    "    return 1"
   ]
  },
  {
   "cell_type": "markdown",
   "metadata": {},
   "source": [
    "## Assign new functions"
   ]
  },
  {
   "cell_type": "code",
   "execution_count": 7,
   "metadata": {},
   "outputs": [],
   "source": [
    "GameEnv._state_observe = new_state_observe\n",
    "GameEnv._reward_after_lock_figure = heuristic\n",
    "GameEnv._reward_for_alive = reward_alive"
   ]
  },
  {
   "cell_type": "markdown",
   "metadata": {},
   "source": [
    "## Create env"
   ]
  },
  {
   "cell_type": "code",
   "execution_count": 8,
   "metadata": {},
   "outputs": [],
   "source": [
    "env = GameEnv()\n",
    "env.observation_space = Box(low=0.0, high=1.0, shape=(20, 10, 3))\n",
    "env.gravity = 1"
   ]
  },
  {
   "cell_type": "markdown",
   "metadata": {},
   "source": [
    "## Test Random"
   ]
  },
  {
   "cell_type": "code",
   "execution_count": 9,
   "metadata": {},
   "outputs": [
    {
     "name": "stdout",
     "output_type": "stream",
     "text": [
      "Episode: 1, Score: 91.53499999999997, Steps: 173\n",
      "Episode: 2, Score: 112.76500000000004, Steps: 255\n",
      "Episode: 3, Score: 127.92000000000003, Steps: 220\n",
      "Episode: 4, Score: 64.61, Steps: 183\n",
      "Episode: 5, Score: 160.31, Steps: 286\n",
      "Episode: 6, Score: 162.06999999999996, Steps: 257\n",
      "Episode: 7, Score: 81.01500000000001, Steps: 136\n",
      "Episode: 8, Score: 85.805, Steps: 185\n",
      "Episode: 9, Score: 79.095, Steps: 225\n",
      "Episode: 10, Score: 177.93500000000003, Steps: 300\n",
      "Episode: 11, Score: 120.21999999999998, Steps: 201\n",
      "Episode: 12, Score: 119.66999999999999, Steps: 205\n",
      "Episode: 13, Score: 101.67000000000002, Steps: 174\n",
      "Episode: 14, Score: 102.60000000000004, Steps: 218\n",
      "Episode: 15, Score: 30.865000000000013, Steps: 86\n",
      "Episode: 16, Score: 94.40000000000002, Steps: 174\n",
      "Episode: 17, Score: 98.04500000000009, Steps: 201\n",
      "Episode: 18, Score: 87.09, Steps: 137\n",
      "Episode: 19, Score: 106.31500000000001, Steps: 225\n",
      "Episode: 20, Score: 195.95000000000002, Steps: 285\n",
      "Episode: 21, Score: 76.67499999999998, Steps: 174\n",
      "Episode: 22, Score: 95.83, Steps: 179\n",
      "Episode: 23, Score: 144.53, Steps: 275\n",
      "Episode: 24, Score: 155.28999999999996, Steps: 254\n",
      "Episode: 25, Score: 79.68499999999997, Steps: 167\n"
     ]
    }
   ],
   "source": [
    "episodes = 25\n",
    "for episode in range(1, episodes+1):\n",
    "    state = env.reset()\n",
    "    done = False\n",
    "    score = 0\n",
    "    steps = 0\n",
    "    while not done:\n",
    "        action = np.random.randint(0, 5)\n",
    "        n_state, reward, done, info = env.step(action)\n",
    "        score+=reward\n",
    "        steps +=1\n",
    "    print(\"Episode: {}, Score: {}, Steps: {}\".format(episode, score, steps))"
   ]
  },
  {
   "cell_type": "markdown",
   "metadata": {},
   "source": [
    "## Test do-nothing"
   ]
  },
  {
   "cell_type": "code",
   "execution_count": 10,
   "metadata": {},
   "outputs": [
    {
     "name": "stdout",
     "output_type": "stream",
     "text": [
      "Episode: 1, Score: 122.81000000000003, Steps: 267\n",
      "Episode: 2, Score: 116.62000000000002, Steps: 226\n",
      "Episode: 3, Score: 117.69000000000007, Steps: 205\n",
      "Episode: 4, Score: 151.855, Steps: 247\n",
      "Episode: 5, Score: 113.29499999999999, Steps: 177\n",
      "Episode: 6, Score: 144.67499999999998, Steps: 226\n",
      "Episode: 7, Score: 151.47, Steps: 257\n",
      "Episode: 8, Score: 96.16999999999999, Steps: 173\n",
      "Episode: 9, Score: 106.95499999999998, Steps: 176\n",
      "Episode: 10, Score: 42.754999999999995, Steps: 190\n",
      "Episode: 11, Score: 127.595, Steps: 251\n",
      "Episode: 12, Score: 174.81500000000005, Steps: 289\n",
      "Episode: 13, Score: 130.61499999999995, Steps: 221\n",
      "Episode: 14, Score: 155.48499999999999, Steps: 223\n",
      "Episode: 15, Score: 75.27499999999999, Steps: 242\n",
      "Episode: 16, Score: 127.73000000000002, Steps: 268\n",
      "Episode: 17, Score: 96.20000000000002, Steps: 172\n",
      "Episode: 18, Score: 90.77000000000001, Steps: 178\n",
      "Episode: 19, Score: 106.60000000000001, Steps: 249\n",
      "Episode: 20, Score: 117.61499999999997, Steps: 183\n",
      "Episode: 21, Score: 130.21499999999997, Steps: 244\n",
      "Episode: 22, Score: 143.03, Steps: 217\n",
      "Episode: 23, Score: 131.83499999999998, Steps: 268\n",
      "Episode: 24, Score: 91.205, Steps: 189\n",
      "Episode: 25, Score: 93.57499999999996, Steps: 218\n"
     ]
    }
   ],
   "source": [
    "episodes = 25\n",
    "for episode in range(1, episodes+1):\n",
    "    state = env.reset()\n",
    "    done = False\n",
    "    score = 0\n",
    "    steps = 0\n",
    "    while not done:\n",
    "        action = -1\n",
    "        n_state, reward, done, info = env.step(action)\n",
    "        score+=reward\n",
    "        steps +=1\n",
    "    print(\"Episode: {}, Score: {}, Steps: {}\".format(episode, score, steps))"
   ]
  },
  {
   "cell_type": "markdown",
   "metadata": {},
   "source": [
    "## Test to-side"
   ]
  },
  {
   "cell_type": "code",
   "execution_count": 11,
   "metadata": {},
   "outputs": [
    {
     "name": "stdout",
     "output_type": "stream",
     "text": [
      "Episode: 1, Score: 114.84500000000001, Steps: 151\n",
      "Episode: 2, Score: 100.11500000000001, Steps: 141\n",
      "Episode: 3, Score: 103.63499999999999, Steps: 144\n",
      "Episode: 4, Score: 125.12999999999998, Steps: 164\n",
      "Episode: 5, Score: 102.29499999999999, Steps: 143\n",
      "Episode: 6, Score: 104.44000000000001, Steps: 162\n",
      "Episode: 7, Score: 89.63499999999999, Steps: 145\n",
      "Episode: 8, Score: 93.04499999999999, Steps: 130\n",
      "Episode: 9, Score: 98.63, Steps: 150\n",
      "Episode: 10, Score: 91.34, Steps: 130\n",
      "Episode: 11, Score: 90.74999999999999, Steps: 137\n",
      "Episode: 12, Score: 118.23000000000002, Steps: 172\n",
      "Episode: 13, Score: 93.015, Steps: 136\n",
      "Episode: 14, Score: 103.545, Steps: 144\n",
      "Episode: 15, Score: 98.37, Steps: 140\n",
      "Episode: 16, Score: 112.35000000000001, Steps: 157\n",
      "Episode: 17, Score: 117.17500000000001, Steps: 159\n",
      "Episode: 18, Score: 100.74499999999998, Steps: 144\n",
      "Episode: 19, Score: 91.25000000000001, Steps: 136\n",
      "Episode: 20, Score: 112.47999999999999, Steps: 158\n",
      "Episode: 21, Score: 105.72000000000003, Steps: 153\n",
      "Episode: 22, Score: 103.3, Steps: 143\n",
      "Episode: 23, Score: 111.79500000000002, Steps: 155\n",
      "Episode: 24, Score: 104.05999999999999, Steps: 152\n",
      "Episode: 25, Score: 100.80500000000002, Steps: 150\n"
     ]
    }
   ],
   "source": [
    "episodes = 25\n",
    "for episode in range(1, episodes+1):\n",
    "    state = env.reset()\n",
    "    done = False\n",
    "    score = 0\n",
    "    steps = 0\n",
    "    while not done:\n",
    "        action = 1\n",
    "        n_state, reward, done, info = env.step(action)\n",
    "        score+=reward\n",
    "        steps +=1\n",
    "    print(\"Episode: {}, Score: {}, Steps: {}\".format(episode, score, steps))"
   ]
  },
  {
   "cell_type": "markdown",
   "metadata": {},
   "source": [
    "# Nural Network and Agent"
   ]
  },
  {
   "cell_type": "markdown",
   "metadata": {},
   "source": [
    "## Build model"
   ]
  },
  {
   "cell_type": "code",
   "execution_count": 3,
   "metadata": {},
   "outputs": [
    {
     "data": {
      "text/plain": [
       "[PhysicalDevice(name='/physical_device:GPU:0', device_type='GPU')]"
      ]
     },
     "execution_count": 3,
     "metadata": {},
     "output_type": "execute_result"
    }
   ],
   "source": [
    "tf.config.list_physical_devices(\"GPU\")"
   ]
  },
  {
   "cell_type": "code",
   "execution_count": 13,
   "metadata": {},
   "outputs": [],
   "source": [
    "def build_model():\n",
    "    return tf.keras.Sequential([\n",
    "    # 1 state, 20 rows, 10 cols, 3 matricies: locked, falling and next figures\n",
    "    layers.Input(shape=(1, 20, 10, 3)),\n",
    "    layers.Reshape(target_shape=(20, 10, 3)),\n",
    "    \n",
    "    layers.Conv2D(filters=32, kernel_size=(3, 3), padding=\"same\"),\n",
    "    layers.Activation(\"relu\"),\n",
    "    layers.MaxPool2D(),\n",
    "    \n",
    "    layers.Conv2D(filters=64, kernel_size=(3, 3), padding=\"same\"),\n",
    "    layers.Activation(\"relu\"),\n",
    "    layers.MaxPool2D(),\n",
    "    \n",
    "    layers.Flatten(),\n",
    "    \n",
    "    layers.Dense(32),\n",
    "    layers.Activation(\"relu\"),\n",
    "    \n",
    "    layers.Dense(16),\n",
    "    layers.Activation(\"relu\"),\n",
    "    \n",
    "    layers.Dense(5)])"
   ]
  },
  {
   "cell_type": "code",
   "execution_count": 14,
   "metadata": {},
   "outputs": [
    {
     "name": "stdout",
     "output_type": "stream",
     "text": [
      "Model: \"sequential\"\n",
      "_________________________________________________________________\n",
      " Layer (type)                Output Shape              Param #   \n",
      "=================================================================\n",
      " reshape (Reshape)           (None, 20, 10, 3)         0         \n",
      "                                                                 \n",
      " conv2d (Conv2D)             (None, 20, 10, 32)        896       \n",
      "                                                                 \n",
      " activation (Activation)     (None, 20, 10, 32)        0         \n",
      "                                                                 \n",
      " max_pooling2d (MaxPooling2D  (None, 10, 5, 32)        0         \n",
      " )                                                               \n",
      "                                                                 \n",
      " conv2d_1 (Conv2D)           (None, 10, 5, 64)         18496     \n",
      "                                                                 \n",
      " activation_1 (Activation)   (None, 10, 5, 64)         0         \n",
      "                                                                 \n",
      " max_pooling2d_1 (MaxPooling  (None, 5, 2, 64)         0         \n",
      " 2D)                                                             \n",
      "                                                                 \n",
      " flatten (Flatten)           (None, 640)               0         \n",
      "                                                                 \n",
      " dense (Dense)               (None, 32)                20512     \n",
      "                                                                 \n",
      " activation_2 (Activation)   (None, 32)                0         \n",
      "                                                                 \n",
      " dense_1 (Dense)             (None, 16)                528       \n",
      "                                                                 \n",
      " activation_3 (Activation)   (None, 16)                0         \n",
      "                                                                 \n",
      " dense_2 (Dense)             (None, 5)                 85        \n",
      "                                                                 \n",
      "=================================================================\n",
      "Total params: 40,517\n",
      "Trainable params: 40,517\n",
      "Non-trainable params: 0\n",
      "_________________________________________________________________\n"
     ]
    }
   ],
   "source": [
    "model = build_model()\n",
    "model.summary()"
   ]
  },
  {
   "cell_type": "markdown",
   "metadata": {},
   "source": [
    "## Agent"
   ]
  },
  {
   "cell_type": "code",
   "execution_count": 15,
   "metadata": {},
   "outputs": [
    {
     "data": {
      "text/plain": [
       "((20, 10, 3), 5)"
      ]
     },
     "execution_count": 15,
     "metadata": {},
     "output_type": "execute_result"
    }
   ],
   "source": [
    "env.observation_space.shape, env.action_space.n"
   ]
  },
  {
   "cell_type": "code",
   "execution_count": 16,
   "metadata": {},
   "outputs": [],
   "source": [
    "def build_agent(model):\n",
    "    #policy = MaxBoltzmannQPolicy()\n",
    "    policy = LinearAnnealedPolicy(EpsGreedyQPolicy(), \n",
    "                              attr='eps',\n",
    "                              value_max=0.3,\n",
    "                              value_min=.001,\n",
    "                              value_test=.001,\n",
    "                              nb_steps=500000)\n",
    "    #policy = EpsGreedyQPolicy(0.2)\n",
    "    memory = SequentialMemory(limit=5000, window_length=1)\n",
    "    dqn = DQNAgent(model=model, \n",
    "        memory=memory,\n",
    "        policy=policy,\n",
    "        nb_actions=5,\n",
    "        nb_steps_warmup=256,\n",
    "        batch_size=128,\n",
    "        target_model_update=1000,\n",
    "        enable_double_dqn=True,\n",
    "        enable_dueling_network=True)\n",
    "    return dqn"
   ]
  },
  {
   "cell_type": "code",
   "execution_count": 17,
   "metadata": {},
   "outputs": [],
   "source": [
    "dqn = build_agent(model)\n",
    "dqn.compile(tf.keras.optimizers.Adam(learning_rate=0.00001, clipnorm=1.0), metrics=[\"mean_squared_error\"])"
   ]
  },
  {
   "cell_type": "code",
   "execution_count": 18,
   "metadata": {},
   "outputs": [
    {
     "name": "stdout",
     "output_type": "stream",
     "text": [
      "0.01\n",
      "1e-05\n"
     ]
    }
   ],
   "source": [
    "dqn.load_weights(\"saved/dqn_v17.h5\")\n",
    "\n",
    "from keras import backend as K\n",
    "print(K.eval(dqn.model.optimizer.learning_rate))\n",
    "K.set_value(dqn.model.optimizer.learning_rate, 0.00001)\n",
    "print(K.eval(dqn.model.optimizer.learning_rate))"
   ]
  },
  {
   "cell_type": "markdown",
   "metadata": {},
   "source": [
    "## Training"
   ]
  },
  {
   "cell_type": "code",
   "execution_count": 19,
   "metadata": {},
   "outputs": [
    {
     "name": "stdout",
     "output_type": "stream",
     "text": [
      "Training for 750000 steps ...\n",
      "Interval 1 (0 steps performed)\n",
      "  132/20000 [..............................] - ETA: 23s - reward: 0.8960"
     ]
    },
    {
     "name": "stderr",
     "output_type": "stream",
     "text": [
      "E:\\Programs\\Anaconda\\envs\\game.ai\\lib\\site-packages\\keras\\engine\\training_v1.py:2079: UserWarning: `Model.state_updates` will be removed in a future version. This property should not be used in TensorFlow 2.0, as `updates` are applied automatically.\n",
      "  updates=self.state_updates,\n"
     ]
    },
    {
     "name": "stdout",
     "output_type": "stream",
     "text": [
      "20000/20000 [==============================] - 830s 41ms/step - reward: 0.5831\n",
      "57 episodes - episode_reward: 201.257 [134.015, 259.560] - loss: 0.284 - mean_squared_error: 2382.624 - mean_q: 43.410 - mean_eps: 0.294\n",
      "\n",
      "Interval 2 (20000 steps performed)\n",
      "20000/20000 [==============================] - 835s 42ms/step - reward: 0.5849\n",
      "56 episodes - episode_reward: 208.387 [105.265, 256.350] - loss: 0.297 - mean_squared_error: 2339.565 - mean_q: 42.824 - mean_eps: 0.282\n",
      "\n",
      "Interval 3 (40000 steps performed)\n",
      "20000/20000 [==============================] - 835s 42ms/step - reward: 0.5778\n",
      "57 episodes - episode_reward: 205.783 [107.085, 309.055] - loss: 0.370 - mean_squared_error: 2352.815 - mean_q: 42.895 - mean_eps: 0.270\n",
      "\n",
      "Interval 4 (60000 steps performed)\n",
      "20000/20000 [==============================] - 836s 42ms/step - reward: 0.5867\n",
      "54 episodes - episode_reward: 216.976 [105.650, 294.620] - loss: 0.309 - mean_squared_error: 2357.444 - mean_q: 42.739 - mean_eps: 0.258\n",
      "\n",
      "Interval 5 (80000 steps performed)\n",
      "20000/20000 [==============================] - 836s 42ms/step - reward: 0.5953\n",
      "55 episodes - episode_reward: 216.579 [169.935, 282.740] - loss: 0.342 - mean_squared_error: 2364.359 - mean_q: 43.180 - mean_eps: 0.246\n",
      "\n",
      "Interval 6 (100000 steps performed)\n",
      "20000/20000 [==============================] - 836s 42ms/step - reward: 0.5845\n",
      "54 episodes - episode_reward: 215.361 [147.165, 302.360] - loss: 0.397 - mean_squared_error: 2372.207 - mean_q: 42.751 - mean_eps: 0.234\n",
      "\n",
      "Interval 7 (120000 steps performed)\n",
      "20000/20000 [==============================] - 836s 42ms/step - reward: 0.5932\n",
      "53 episodes - episode_reward: 222.325 [163.255, 308.855] - loss: 0.323 - mean_squared_error: 2378.473 - mean_q: 43.298 - mean_eps: 0.222\n",
      "\n",
      "Interval 8 (140000 steps performed)\n",
      "20000/20000 [==============================] - 837s 42ms/step - reward: 0.5968\n",
      "55 episodes - episode_reward: 218.127 [152.710, 308.405] - loss: 0.365 - mean_squared_error: 2391.224 - mean_q: 43.243 - mean_eps: 0.210\n",
      "\n",
      "Interval 9 (160000 steps performed)\n",
      "20000/20000 [==============================] - 836s 42ms/step - reward: 0.5960\n",
      "54 episodes - episode_reward: 222.734 [59.145, 275.250] - loss: 0.392 - mean_squared_error: 2414.907 - mean_q: 43.531 - mean_eps: 0.198\n",
      "\n",
      "Interval 10 (180000 steps performed)\n",
      "20000/20000 [==============================] - 836s 42ms/step - reward: 0.6077\n",
      "53 episodes - episode_reward: 225.743 [149.390, 291.910] - loss: 0.355 - mean_squared_error: 2438.705 - mean_q: 43.933 - mean_eps: 0.186\n",
      "\n",
      "Interval 11 (200000 steps performed)\n",
      "20000/20000 [==============================] - 835s 42ms/step - reward: 0.6031\n",
      "53 episodes - episode_reward: 227.068 [147.330, 309.995] - loss: 0.322 - mean_squared_error: 2424.699 - mean_q: 43.556 - mean_eps: 0.174\n",
      "\n",
      "Interval 12 (220000 steps performed)\n",
      "20000/20000 [==============================] - 830s 41ms/step - reward: 0.5987\n",
      "52 episodes - episode_reward: 230.906 [173.375, 280.175] - loss: 0.317 - mean_squared_error: 2397.100 - mean_q: 42.624 - mean_eps: 0.162\n",
      "\n",
      "Interval 13 (240000 steps performed)\n",
      "20000/20000 [==============================] - 833s 42ms/step - reward: 0.6212\n",
      "51 episodes - episode_reward: 244.509 [178.590, 399.585] - loss: 0.363 - mean_squared_error: 2431.145 - mean_q: 43.708 - mean_eps: 0.151\n",
      "\n",
      "Interval 14 (260000 steps performed)\n",
      "20000/20000 [==============================] - 837s 42ms/step - reward: 0.6053\n",
      "51 episodes - episode_reward: 238.887 [182.800, 328.445] - loss: 0.329 - mean_squared_error: 2369.356 - mean_q: 42.909 - mean_eps: 0.139\n",
      "\n",
      "Interval 15 (280000 steps performed)\n",
      "20000/20000 [==============================] - 835s 42ms/step - reward: 0.6159\n",
      "51 episodes - episode_reward: 238.707 [189.145, 351.575] - loss: 0.341 - mean_squared_error: 2469.005 - mean_q: 44.510 - mean_eps: 0.127\n",
      "\n",
      "Interval 16 (300000 steps performed)\n",
      "20000/20000 [==============================] - 838s 42ms/step - reward: 0.6302\n",
      "50 episodes - episode_reward: 254.505 [187.055, 342.615] - loss: 0.367 - mean_squared_error: 2445.742 - mean_q: 44.287 - mean_eps: 0.115\n",
      "\n",
      "Interval 17 (320000 steps performed)\n",
      "20000/20000 [==============================] - 836s 42ms/step - reward: 0.6265\n",
      "51 episodes - episode_reward: 242.491 [172.290, 317.060] - loss: 0.343 - mean_squared_error: 2497.459 - mean_q: 45.040 - mean_eps: 0.103\n",
      "\n",
      "Interval 18 (340000 steps performed)\n",
      "20000/20000 [==============================] - 835s 42ms/step - reward: 0.6426\n",
      "50 episodes - episode_reward: 257.480 [189.635, 396.390] - loss: 0.393 - mean_squared_error: 2475.115 - mean_q: 45.113 - mean_eps: 0.091\n",
      "\n",
      "Interval 19 (360000 steps performed)\n",
      "20000/20000 [==============================] - 833s 42ms/step - reward: 0.6442\n",
      "52 episodes - episode_reward: 250.538 [189.645, 337.885] - loss: 0.329 - mean_squared_error: 2500.959 - mean_q: 45.639 - mean_eps: 0.079\n",
      "\n",
      "Interval 20 (380000 steps performed)\n",
      "20000/20000 [==============================] - 834s 42ms/step - reward: 0.6504\n",
      "50 episodes - episode_reward: 261.058 [200.600, 368.460] - loss: 0.333 - mean_squared_error: 2488.515 - mean_q: 45.298 - mean_eps: 0.067\n",
      "\n",
      "Interval 21 (400000 steps performed)\n",
      "20000/20000 [==============================] - 834s 42ms/step - reward: 0.6468\n",
      "50 episodes - episode_reward: 259.626 [210.205, 344.565] - loss: 0.260 - mean_squared_error: 2482.982 - mean_q: 45.146 - mean_eps: 0.055\n",
      "\n",
      "Interval 22 (420000 steps performed)\n",
      "20000/20000 [==============================] - 834s 42ms/step - reward: 0.6308\n",
      "48 episodes - episode_reward: 261.112 [199.565, 371.655] - loss: 0.377 - mean_squared_error: 2407.597 - mean_q: 43.808 - mean_eps: 0.043\n",
      "\n",
      "Interval 23 (440000 steps performed)\n",
      "20000/20000 [==============================] - 837s 42ms/step - reward: 0.6366\n",
      "47 episodes - episode_reward: 266.649 [206.480, 357.480] - loss: 0.350 - mean_squared_error: 2421.517 - mean_q: 43.559 - mean_eps: 0.031\n",
      "\n",
      "Interval 24 (460000 steps performed)\n",
      "20000/20000 [==============================] - 836s 42ms/step - reward: 0.6323\n",
      "48 episodes - episode_reward: 266.094 [221.790, 376.420] - loss: 0.371 - mean_squared_error: 2393.796 - mean_q: 43.248 - mean_eps: 0.019\n",
      "\n",
      "Interval 25 (480000 steps performed)\n",
      "20000/20000 [==============================] - 836s 42ms/step - reward: 0.6463\n",
      "49 episodes - episode_reward: 265.207 [192.170, 356.205] - loss: 0.323 - mean_squared_error: 2461.110 - mean_q: 44.678 - mean_eps: 0.007\n",
      "\n",
      "Interval 26 (500000 steps performed)\n",
      "20000/20000 [==============================] - 829s 41ms/step - reward: 0.6510\n",
      "47 episodes - episode_reward: 278.328 [222.330, 453.185] - loss: 0.413 - mean_squared_error: 2438.997 - mean_q: 44.476 - mean_eps: 0.001\n",
      "\n",
      "Interval 27 (520000 steps performed)\n",
      "20000/20000 [==============================] - 831s 42ms/step - reward: 0.6504\n",
      "46 episodes - episode_reward: 282.130 [222.510, 374.690] - loss: 0.343 - mean_squared_error: 2438.099 - mean_q: 44.321 - mean_eps: 0.001\n",
      "\n",
      "Interval 28 (540000 steps performed)\n",
      "20000/20000 [==============================] - 831s 42ms/step - reward: 0.6451\n",
      "47 episodes - episode_reward: 270.249 [196.680, 371.850] - loss: 0.332 - mean_squared_error: 2453.604 - mean_q: 44.583 - mean_eps: 0.001\n",
      "\n",
      "Interval 29 (560000 steps performed)\n",
      "20000/20000 [==============================] - 831s 42ms/step - reward: 0.6601\n",
      "47 episodes - episode_reward: 280.566 [235.930, 360.770] - loss: 0.345 - mean_squared_error: 2463.000 - mean_q: 45.037 - mean_eps: 0.001\n",
      "\n",
      "Interval 30 (580000 steps performed)\n",
      "20000/20000 [==============================] - 832s 42ms/step - reward: 0.6322\n",
      "49 episodes - episode_reward: 261.290 [200.930, 342.095] - loss: 0.301 - mean_squared_error: 2428.721 - mean_q: 43.941 - mean_eps: 0.001\n",
      "\n",
      "Interval 31 (600000 steps performed)\n",
      "20000/20000 [==============================] - 831s 42ms/step - reward: 0.6365\n",
      "47 episodes - episode_reward: 270.677 [199.940, 339.790] - loss: 0.312 - mean_squared_error: 2410.243 - mean_q: 43.678 - mean_eps: 0.001\n",
      "\n",
      "Interval 32 (620000 steps performed)\n",
      "20000/20000 [==============================] - 829s 41ms/step - reward: 0.6545\n",
      "47 episodes - episode_reward: 276.752 [217.055, 366.995] - loss: 0.324 - mean_squared_error: 2442.931 - mean_q: 44.465 - mean_eps: 0.001\n",
      "\n",
      "Interval 33 (640000 steps performed)\n",
      "20000/20000 [==============================] - 825s 41ms/step - reward: 0.6419\n",
      "46 episodes - episode_reward: 279.698 [220.825, 375.010] - loss: 0.330 - mean_squared_error: 2359.943 - mean_q: 42.794 - mean_eps: 0.001\n",
      "\n",
      "Interval 34 (660000 steps performed)\n",
      "20000/20000 [==============================] - 826s 41ms/step - reward: 0.6326\n",
      "46 episodes - episode_reward: 278.007 [225.905, 365.900] - loss: 0.322 - mean_squared_error: 2371.355 - mean_q: 43.025 - mean_eps: 0.001\n",
      "\n",
      "Interval 35 (680000 steps performed)\n",
      "20000/20000 [==============================] - 831s 42ms/step - reward: 0.6403\n",
      "45 episodes - episode_reward: 284.777 [201.595, 422.275] - loss: 0.380 - mean_squared_error: 2434.819 - mean_q: 44.298 - mean_eps: 0.001\n",
      "\n",
      "Interval 36 (700000 steps performed)\n",
      "20000/20000 [==============================] - 828s 41ms/step - reward: 0.6452\n",
      "44 episodes - episode_reward: 290.371 [205.610, 442.445] - loss: 0.456 - mean_squared_error: 2388.932 - mean_q: 43.807 - mean_eps: 0.001\n",
      "\n",
      "Interval 37 (720000 steps performed)\n",
      "20000/20000 [==============================] - 827s 41ms/step - reward: 0.6459\n",
      "44 episodes - episode_reward: 291.383 [216.945, 412.875] - loss: 0.385 - mean_squared_error: 2434.135 - mean_q: 44.585 - mean_eps: 0.001\n",
      "\n",
      "Interval 38 (740000 steps performed)\n",
      " 9999/20000 [=============>................] - ETA: 6:52 - reward: 0.6497done, took 31238.685 seconds\n"
     ]
    }
   ],
   "source": [
    "history = dqn.fit(env, nb_steps=750000, visualize=False, verbose=1, log_interval=20000)"
   ]
  },
  {
   "cell_type": "markdown",
   "metadata": {},
   "source": [
    "## Save Weights"
   ]
  },
  {
   "cell_type": "code",
   "execution_count": 20,
   "metadata": {},
   "outputs": [],
   "source": [
    "dqn.save_weights(\"saved/dqn_v18.h5\", overwrite=True)"
   ]
  },
  {
   "cell_type": "markdown",
   "metadata": {},
   "source": [
    "## Plot"
   ]
  },
  {
   "cell_type": "code",
   "execution_count": 21,
   "metadata": {},
   "outputs": [
    {
     "data": {
      "image/png": "[encoded data removed]",
      "text/plain": [
       "<Figure size 1152x576 with 1 Axes>"
      ]
     },
     "metadata": {
      "needs_background": "light"
     },
     "output_type": "display_data"
    }
   ],
   "source": [
    "# load history\n",
    "#full_hist = np.load(\"saved/history15.npy\")\n",
    "#full_hist = np.concatenate((full_hist, np.array(history.history[\"episode_reward\"])))\n",
    "# save history\n",
    "#np.save(\"saved/history15.npy\", full_hist)\n",
    "np.save(\"saved/history18.npy\", np.array(history.history[\"episode_reward\"]))\n",
    "\n",
    "plt.rcParams[\"figure.figsize\"] = (16, 8)\n",
    "#plt.plot(moving_average(full_hist, 10))\n",
    "#plt.plot(full_hist)\n",
    "plt.plot(np.array(history.history[\"episode_reward\"]))\n",
    "plt.show()"
   ]
  },
  {
   "cell_type": "code",
   "execution_count": 22,
   "metadata": {},
   "outputs": [
    {
     "data": {
      "image/png": "[encoded data removed]",
      "text/plain": [
       "<Figure size 1152x576 with 1 Axes>"
      ]
     },
     "metadata": {
      "needs_background": "light"
     },
     "output_type": "display_data"
    }
   ],
   "source": [
    "load17 = np.load(\"saved/history17.npy\")\n",
    "load18 = np.load(\"saved/history18.npy\")\n",
    "total = np.concatenate((load17, load18))\n",
    "plt.plot(total)\n",
    "plt.show()"
   ]
  },
  {
   "cell_type": "code",
   "execution_count": null,
   "metadata": {},
   "outputs": [],
   "source": []
  }
 ],
 "metadata": {
  "interpreter": {
   "hash": "32700bc3807e85cff4169f1494086cde6a49298b14454c6caa68f1dd2006857d"
  },
  "kernelspec": {
   "display_name": "Python 3.9.7 64-bit ('game.ai': conda)",
   "language": "python",
   "name": "python3"
  },
  "language_info": {
   "codemirror_mode": {
    "name": "ipython",
    "version": 3
   },
   "file_extension": ".py",
   "mimetype": "text/x-python",
   "name": "python",
   "nbconvert_exporter": "python",
   "pygments_lexer": "ipython3",
   "version": "3.9.7"
  },
  "orig_nbformat": 4
 },
 "nbformat": 4,
 "nbformat_minor": 2
}
