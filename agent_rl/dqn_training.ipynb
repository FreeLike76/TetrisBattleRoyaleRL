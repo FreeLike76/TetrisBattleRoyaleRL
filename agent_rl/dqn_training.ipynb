{
 "cells": [
  {
   "cell_type": "markdown",
   "metadata": {},
   "source": [
    "# DQN Training\n",
    "Training a DQN agent using custom gym environment and keras-rl2."
   ]
  },
  {
   "cell_type": "markdown",
   "metadata": {},
   "source": [
    "# Imports"
   ]
  },
  {
   "cell_type": "code",
   "execution_count": 1,
   "metadata": {},
   "outputs": [],
   "source": [
    "import numpy as np\n",
    "import matplotlib.pyplot as plt\n",
    "\n",
    "import tensorflow as tf\n",
    "import tensorflow.keras as keras\n",
    "import tensorflow.keras.layers as layers\n",
    "\n",
    "from gym import Env\n",
    "from gym.spaces import Discrete, Box\n",
    "\n",
    "from rl.agents import DQNAgent\n",
    "from rl.policy import MaxBoltzmannQPolicy, BoltzmannQPolicy, LinearAnnealedPolicy, EpsGreedyQPolicy\n",
    "from rl.memory import SequentialMemory"
   ]
  },
  {
   "cell_type": "markdown",
   "metadata": {},
   "source": [
    "## Functions"
   ]
  },
  {
   "cell_type": "code",
   "execution_count": 2,
   "metadata": {},
   "outputs": [],
   "source": [
    "def moving_average(x, w):\n",
    "    return np.convolve(x, np.ones(w), \"valid\") / w"
   ]
  },
  {
   "cell_type": "markdown",
   "metadata": {},
   "source": [
    "# Environment"
   ]
  },
  {
   "cell_type": "markdown",
   "metadata": {},
   "source": [
    "## Loading Shape Class"
   ]
  },
  {
   "cell_type": "code",
   "execution_count": 3,
   "metadata": {},
   "outputs": [],
   "source": [
    "import sys  \n",
    "sys.path.insert(0, \"E:\\Projects\\Python\\TetrisRoyaleRL\")\n",
    "\n",
    "from settings import *\n",
    "from game_env.shapes import Shape"
   ]
  },
  {
   "cell_type": "markdown",
   "metadata": {},
   "source": [
    "## Reworking the Environment"
   ]
  },
  {
   "cell_type": "code",
   "execution_count": 4,
   "metadata": {},
   "outputs": [],
   "source": [
    "class GameEnv(Env):\n",
    "    def __init__(self):\n",
    "        # spaces\n",
    "        self.action_space = Discrete(5)\n",
    "        self.observation_space = Box(low=0.0, high=1.0, shape=(20, 10, 3))\n",
    "        \n",
    "        # state\n",
    "        self.game_over = None\n",
    "\n",
    "        # coord\n",
    "        self.map = None\n",
    "\n",
    "        # shape\n",
    "        self.shape = None\n",
    "        self.next_shape = None\n",
    "\n",
    "        # init env\n",
    "        self._state_gen()\n",
    "\n",
    "    def _state_gen(self):\n",
    "        self.game_over = False\n",
    "        \n",
    "        self.map = np.ones((GAME_SHAPE_TOP_HIDDEN + 20 + GAME_SHAPE_BORDERS,\n",
    "                            GAME_SHAPE_BORDERS + 10 + GAME_SHAPE_BORDERS), dtype=np.int32)\n",
    "        self.map[0: -GAME_SHAPE_BORDERS, GAME_SHAPE_BORDERS: -GAME_SHAPE_BORDERS] = 0\n",
    "        \n",
    "        self.shape = Shape()\n",
    "        self.next_shape = Shape()\n",
    "\n",
    "    def _state_observe(self):\n",
    "        # observable map\n",
    "        temp_map = self.map[GAME_SHAPE_TOP_HIDDEN:-GAME_SHAPE_BORDERS, GAME_SHAPE_BORDERS: -GAME_SHAPE_BORDERS].copy()\n",
    "        \n",
    "        # observation of cur shape on map\n",
    "        temp_shape = np.zeros(self.map.shape)\n",
    "        x0 = self.shape.x\n",
    "        y0 = int(self.shape.y)\n",
    "        this_shape = self.shape.get_shape()\n",
    "        temp_shape[y0: y0 + this_shape.shape[0], x0: x0 + this_shape.shape[1]] += this_shape\n",
    "        temp_shape = temp_shape[GAME_SHAPE_TOP_HIDDEN:-GAME_SHAPE_BORDERS, GAME_SHAPE_BORDERS: -GAME_SHAPE_BORDERS]\n",
    "        \n",
    "        # next shape on map, assuming y0 = 0\n",
    "        temp_next_shape = np.zeros((20, 10))\n",
    "        x0 = self.next_shape.x - GAME_SHAPE_BORDERS\n",
    "        next_shape = self.next_shape.get_shape()\n",
    "        temp_next_shape[0: next_shape.shape[0], x0: x0 + next_shape.shape[1]] += next_shape\n",
    "\n",
    "        return np.stack([temp_map, temp_shape, temp_next_shape], axis=-1).astype(np.float32)\n",
    "\n",
    "    def render(self):\n",
    "        pass\n",
    "    \n",
    "    def reset(self):\n",
    "        # restart state\n",
    "        self._state_gen()\n",
    "        # not terminal\n",
    "        return self._state_observe()\n",
    "\n",
    "    def step(self, action):\n",
    "        reward = 0\n",
    "        # 0 is skip\n",
    "        # 1 is left\n",
    "        if action == 1:\n",
    "            if self.can_move(self.shape.x - 1, int(self.shape.y), self.shape.get_shape()):\n",
    "                self.shape.x -= 1\n",
    "            else:\n",
    "                #reward -= 1\n",
    "                pass\n",
    "        # 2 is right\n",
    "        elif action == 2:\n",
    "            if self.can_move(self.shape.x + 1, int(self.shape.y), self.shape.get_shape()):\n",
    "                self.shape.x += 1\n",
    "            else:\n",
    "                #reward -= 1\n",
    "                pass\n",
    "        # 3 is down\n",
    "        elif action == 3:\n",
    "            if self.can_move(self.shape.x, int(self.shape.y + 1), self.shape.get_shape()):\n",
    "                self.shape.y += 1\n",
    "            else:\n",
    "                #reward -= 1\n",
    "                pass\n",
    "        # 4 is rotate\n",
    "        elif action == 4:\n",
    "            if self.can_move(self.shape.x, int(self.shape.y), self.shape.get_rotated()):\n",
    "                self.shape.rotate()\n",
    "            else:\n",
    "                #reward -= 1\n",
    "                pass\n",
    "        # move down\n",
    "        if self.can_move(self.shape.x, int(self.shape.y + FALL_SPEED), self.shape.get_shape()):\n",
    "            self.shape.y += FALL_SPEED\n",
    "        else:\n",
    "            self.lock_figure()\n",
    "            #reward += self.lock_figure()\n",
    "            reward += self.heuristic()\n",
    "\n",
    "            #reward for height of locked shapes\n",
    "            #height = self.map[GAME_SHAPE_TOP_HIDDEN: -GAME_SHAPE_BORDERS, GAME_SHAPE_BORDERS: -GAME_SHAPE_BORDERS]\n",
    "            #height = np.where(height.sum(axis=1) == 0)[0]\n",
    "            #reward += (height.size) / 5\n",
    "        \n",
    "        # reward for cleared rows\n",
    "        reward += self.remove_full_rows()\n",
    "        \n",
    "        return self._state_observe(), reward, self.game_over, {}\n",
    "\n",
    "\n",
    "    def at(self, x, y):\n",
    "        return self.map[GAME_SHAPE_TOP_HIDDEN + y, GAME_SHAPE_BORDERS + x]\n",
    "\n",
    "    def can_move(self, x0, y0, figure):\n",
    "        temp = self.map.copy()\n",
    "        temp[int(y0): int(y0 + figure.shape[0]), x0: x0 + figure.shape[1]] += figure\n",
    "        if 2 in temp:\n",
    "            return False\n",
    "        else:\n",
    "            return True\n",
    "\n",
    "    def lock_figure(self):\n",
    "        x = self.shape.x\n",
    "        y = int(self.shape.y)\n",
    "        figure = self.shape.get_shape()\n",
    "        self.map[y: y + figure.shape[0], x: x + figure.shape[1]] += figure\n",
    "        self.shape = self.next_shape\n",
    "        self.next_shape = Shape()\n",
    "        if y < GAME_SHAPE_TOP_HIDDEN:\n",
    "            self.game_over = True\n",
    "        return y - GAME_SHAPE_TOP_HIDDEN\n",
    "\n",
    "\n",
    "    def remove_full_rows(self):\n",
    "        reward = 0\n",
    "        full = self.map[GAME_SHAPE_TOP_HIDDEN: -GAME_SHAPE_BORDERS, GAME_SHAPE_BORDERS: -GAME_SHAPE_BORDERS]\n",
    "        full = np.where(full.sum(axis=1) == 10)[0]\n",
    "        if full.size > 0:\n",
    "            reward = full.size * 10\n",
    "\n",
    "            # to get indexes of the game screen\n",
    "            full = full + GAME_SHAPE_TOP_HIDDEN\n",
    "\n",
    "            # remove full rows\n",
    "            self.map[full, GAME_SHAPE_BORDERS: -GAME_SHAPE_BORDERS] = 0\n",
    "\n",
    "            # get non-empty rows\n",
    "            partial = self.map[GAME_SHAPE_TOP_HIDDEN: -GAME_SHAPE_BORDERS, GAME_SHAPE_BORDERS: -GAME_SHAPE_BORDERS]\n",
    "            partial = np.where(partial.sum(axis=1) != 0)[0]\n",
    "\n",
    "            # if there are levitating non-empty rows\n",
    "            if partial.size > 0:\n",
    "                # get their indexes\n",
    "                partial = partial + GAME_SHAPE_TOP_HIDDEN\n",
    "                bottom = self.map.shape[0] - GAME_SHAPE_BORDERS\n",
    "                # move them to bottom\n",
    "                self.map[bottom-partial.size: bottom, GAME_SHAPE_BORDERS: -GAME_SHAPE_BORDERS] = \\\n",
    "                    self.map[partial, GAME_SHAPE_BORDERS: -GAME_SHAPE_BORDERS]\n",
    "                # everything above must be cleared\n",
    "                self.map[0: bottom-partial.size, GAME_SHAPE_BORDERS: -GAME_SHAPE_BORDERS] = 0\n",
    "        return reward\n",
    "        \n",
    "    def heuristic(self):\n",
    "        temp_map = self.map\n",
    "        # sum of heights\n",
    "        heights = 24 - np.argmax(temp_map[:, GAME_SHAPE_BORDERS: -GAME_SHAPE_BORDERS] == 1, axis=0)\n",
    "        sum_hights = heights.sum()\n",
    "\n",
    "        # bumpiness\n",
    "        bumpiness = 0\n",
    "        for i in range(heights.shape[0] - 1):\n",
    "            bumpiness += abs(heights[i] - heights[i + 1])\n",
    "\n",
    "        # complete rows\n",
    "        temp_map = temp_map[GAME_SHAPE_TOP_HIDDEN: -GAME_SHAPE_BORDERS, GAME_SHAPE_BORDERS: -GAME_SHAPE_BORDERS]\n",
    "        complete_rows = (np.where(temp_map.sum(axis=1) == 10)[0]).size\n",
    "\n",
    "        # count of holes\n",
    "        holes = 0\n",
    "        for i in range(1, temp_map.shape[0]):\n",
    "            for j in range(temp_map.shape[1]):\n",
    "                if temp_map[i, j] == 0 and temp_map[i-1, j] == 1:\n",
    "                    holes += 1\n",
    "\n",
    "        total = -0.6 * sum_hights \\\n",
    "                + 0.75 * complete_rows \\\n",
    "                - 0.35 * holes \\\n",
    "                - 0.2 * bumpiness\n",
    "        return total"
   ]
  },
  {
   "cell_type": "markdown",
   "metadata": {},
   "source": [
    "## Create env"
   ]
  },
  {
   "cell_type": "code",
   "execution_count": 5,
   "metadata": {},
   "outputs": [],
   "source": [
    "env = GameEnv()"
   ]
  },
  {
   "cell_type": "markdown",
   "metadata": {},
   "source": [
    "## Test Random"
   ]
  },
  {
   "cell_type": "code",
   "execution_count": 6,
   "metadata": {},
   "outputs": [
    {
     "name": "stdout",
     "output_type": "stream",
     "text": [
      "Episode: 1, Score: -1274.2, Steps: 890\n",
      "Episode: 2, Score: -1433.3999999999999, Steps: 949\n",
      "Episode: 3, Score: -858.65, Steps: 693\n",
      "Episode: 4, Score: -975.1, Steps: 848\n",
      "Episode: 5, Score: -1276.6000000000001, Steps: 1025\n",
      "Episode: 6, Score: -867.95, Steps: 756\n",
      "Episode: 7, Score: -817.4, Steps: 646\n",
      "Episode: 8, Score: -1253.5999999999997, Steps: 769\n",
      "Episode: 9, Score: -963.0, Steps: 670\n",
      "Episode: 10, Score: -898.8, Steps: 825\n",
      "Episode: 11, Score: -997.0999999999999, Steps: 818\n",
      "Episode: 12, Score: -1011.05, Steps: 894\n",
      "Episode: 13, Score: -799.7999999999998, Steps: 742\n",
      "Episode: 14, Score: -1284.9, Steps: 799\n",
      "Episode: 15, Score: -1455.5999999999997, Steps: 1070\n",
      "Episode: 16, Score: -918.3, Steps: 726\n",
      "Episode: 17, Score: -1259.6499999999999, Steps: 804\n",
      "Episode: 18, Score: -1137.05, Steps: 727\n",
      "Episode: 19, Score: -1166.0, Steps: 822\n",
      "Episode: 20, Score: -1261.6, Steps: 1032\n",
      "Episode: 21, Score: -1686.7499999999998, Steps: 863\n",
      "Episode: 22, Score: -991.8, Steps: 794\n",
      "Episode: 23, Score: -1615.0999999999997, Steps: 1082\n",
      "Episode: 24, Score: -1502.1999999999998, Steps: 1017\n",
      "Episode: 25, Score: -1352.7500000000002, Steps: 883\n"
     ]
    }
   ],
   "source": [
    "episodes = 25\n",
    "for episode in range(1, episodes+1):\n",
    "    state = env.reset()\n",
    "    done = False\n",
    "    score = 0\n",
    "    steps = 0\n",
    "    while not done:\n",
    "        action = np.random.randint(0, 4)\n",
    "        n_state, reward, done, info = env.step(action)\n",
    "        score+=reward\n",
    "        steps +=1\n",
    "    print(\"Episode: {}, Score: {}, Steps: {}\".format(episode, score, steps))"
   ]
  },
  {
   "cell_type": "markdown",
   "metadata": {},
   "source": [
    "## Test do-nothing"
   ]
  },
  {
   "cell_type": "code",
   "execution_count": 7,
   "metadata": {},
   "outputs": [
    {
     "name": "stdout",
     "output_type": "stream",
     "text": [
      "Episode: 1, Score: -556.5999999999999, Steps: 1151\n",
      "Episode: 2, Score: -956.1999999999999, Steps: 1620\n",
      "Episode: 3, Score: -918.4000000000001, Steps: 1681\n",
      "Episode: 4, Score: -818.4000000000001, Steps: 1486\n",
      "Episode: 5, Score: -474.2999999999999, Steps: 1259\n",
      "Episode: 6, Score: -850.25, Steps: 1635\n",
      "Episode: 7, Score: -850.0499999999997, Steps: 1299\n",
      "Episode: 8, Score: -784.6500000000001, Steps: 1614\n",
      "Episode: 9, Score: -893.5, Steps: 1487\n",
      "Episode: 10, Score: -701.7, Steps: 1298\n",
      "Episode: 11, Score: -675.2499999999999, Steps: 1253\n",
      "Episode: 12, Score: -767.3499999999999, Steps: 1606\n",
      "Episode: 13, Score: -1270.1000000000001, Steps: 1621\n",
      "Episode: 14, Score: -1089.9, Steps: 1835\n",
      "Episode: 15, Score: -921.3999999999999, Steps: 1615\n",
      "Episode: 16, Score: -1063.45, Steps: 1688\n",
      "Episode: 17, Score: -771.3499999999999, Steps: 1562\n",
      "Episode: 18, Score: -936.0, Steps: 1640\n",
      "Episode: 19, Score: -757.5, Steps: 1895\n",
      "Episode: 20, Score: -655.3999999999999, Steps: 1211\n",
      "Episode: 21, Score: -584.1999999999999, Steps: 1300\n",
      "Episode: 22, Score: -548.75, Steps: 1407\n",
      "Episode: 23, Score: -820.35, Steps: 1626\n",
      "Episode: 24, Score: -972.15, Steps: 1773\n",
      "Episode: 25, Score: -958.6999999999999, Steps: 1754\n"
     ]
    }
   ],
   "source": [
    "episodes = 25\n",
    "for episode in range(1, episodes+1):\n",
    "    state = env.reset()\n",
    "    done = False\n",
    "    score = 0\n",
    "    steps = 0\n",
    "    while not done:\n",
    "        action = -1\n",
    "        n_state, reward, done, info = env.step(action)\n",
    "        score+=reward\n",
    "        steps +=1\n",
    "    print(\"Episode: {}, Score: {}, Steps: {}\".format(episode, score, steps))"
   ]
  },
  {
   "cell_type": "markdown",
   "metadata": {},
   "source": [
    "# Nural Network and Agent"
   ]
  },
  {
   "cell_type": "markdown",
   "metadata": {},
   "source": [
    "## Build model"
   ]
  },
  {
   "cell_type": "code",
   "execution_count": 15,
   "metadata": {},
   "outputs": [
    {
     "data": {
      "text/plain": [
       "[PhysicalDevice(name='/physical_device:GPU:0', device_type='GPU')]"
      ]
     },
     "execution_count": 15,
     "metadata": {},
     "output_type": "execute_result"
    }
   ],
   "source": [
    "tf.config.list_physical_devices(\"GPU\")"
   ]
  },
  {
   "cell_type": "code",
   "execution_count": 16,
   "metadata": {},
   "outputs": [],
   "source": [
    "def build_model():\n",
    "    return tf.keras.Sequential([\n",
    "    # 1 state, 20 rows, 10 cols, 3 matricies: locked, falling and next figures\n",
    "    layers.Input(shape=(1, 20, 10, 3)),\n",
    "    layers.Reshape(target_shape=(20, 10, 3)),\n",
    "    \n",
    "    layers.Conv2D(filters=32, kernel_size=(3, 3), padding=\"same\"),\n",
    "    layers.Activation(\"relu\"),\n",
    "    layers.MaxPool2D(),\n",
    "    \n",
    "    layers.Conv2D(filters=64, kernel_size=(3, 3), padding=\"same\"),\n",
    "    layers.Activation(\"relu\"),\n",
    "    layers.MaxPool2D(),\n",
    "    \n",
    "    layers.Flatten(),\n",
    "    \n",
    "    layers.Dense(32),\n",
    "    layers.Activation(\"relu\"),\n",
    "    \n",
    "    layers.Dense(16),\n",
    "    layers.Activation(\"relu\"),\n",
    "    \n",
    "    layers.Dense(5)])"
   ]
  },
  {
   "cell_type": "code",
   "execution_count": 17,
   "metadata": {},
   "outputs": [
    {
     "name": "stdout",
     "output_type": "stream",
     "text": [
      "Model: \"sequential_1\"\n",
      "_________________________________________________________________\n",
      " Layer (type)                Output Shape              Param #   \n",
      "=================================================================\n",
      " reshape_1 (Reshape)         (None, 20, 10, 3)         0         \n",
      "                                                                 \n",
      " conv2d_2 (Conv2D)           (None, 20, 10, 32)        896       \n",
      "                                                                 \n",
      " activation_4 (Activation)   (None, 20, 10, 32)        0         \n",
      "                                                                 \n",
      " max_pooling2d_2 (MaxPooling  (None, 10, 5, 32)        0         \n",
      " 2D)                                                             \n",
      "                                                                 \n",
      " conv2d_3 (Conv2D)           (None, 10, 5, 64)         18496     \n",
      "                                                                 \n",
      " activation_5 (Activation)   (None, 10, 5, 64)         0         \n",
      "                                                                 \n",
      " max_pooling2d_3 (MaxPooling  (None, 5, 2, 64)         0         \n",
      " 2D)                                                             \n",
      "                                                                 \n",
      " flatten_1 (Flatten)         (None, 640)               0         \n",
      "                                                                 \n",
      " dense_3 (Dense)             (None, 32)                20512     \n",
      "                                                                 \n",
      " activation_6 (Activation)   (None, 32)                0         \n",
      "                                                                 \n",
      " dense_4 (Dense)             (None, 16)                528       \n",
      "                                                                 \n",
      " activation_7 (Activation)   (None, 16)                0         \n",
      "                                                                 \n",
      " dense_5 (Dense)             (None, 5)                 85        \n",
      "                                                                 \n",
      "=================================================================\n",
      "Total params: 40,517\n",
      "Trainable params: 40,517\n",
      "Non-trainable params: 0\n",
      "_________________________________________________________________\n"
     ]
    }
   ],
   "source": [
    "model = build_model()\n",
    "model.summary()"
   ]
  },
  {
   "cell_type": "markdown",
   "metadata": {},
   "source": [
    "## Agent"
   ]
  },
  {
   "cell_type": "code",
   "execution_count": 18,
   "metadata": {},
   "outputs": [
    {
     "data": {
      "text/plain": [
       "((20, 10, 3), 4)"
      ]
     },
     "execution_count": 18,
     "metadata": {},
     "output_type": "execute_result"
    }
   ],
   "source": [
    "env.observation_space.shape, env.action_space.n"
   ]
  },
  {
   "cell_type": "code",
   "execution_count": 19,
   "metadata": {},
   "outputs": [],
   "source": [
    "def build_agent(model):\n",
    "    #policy = MaxBoltzmannQPolicy()\n",
    "    policy = LinearAnnealedPolicy(EpsGreedyQPolicy(), \n",
    "                              attr='eps',\n",
    "                              value_max=1.0,\n",
    "                              value_min=0,\n",
    "                              value_test=.05,\n",
    "                              nb_steps=150000)\n",
    "    memory = SequentialMemory(limit=5000, window_length=1)\n",
    "    dqn = DQNAgent(model=model, \n",
    "        memory=memory,\n",
    "        policy=policy,\n",
    "        nb_actions=5,\n",
    "        nb_steps_warmup=256,\n",
    "        batch_size=128,\n",
    "        target_model_update=1000,\n",
    "        enable_double_dqn=True,\n",
    "        enable_dueling_network=True)\n",
    "    return dqn"
   ]
  },
  {
   "cell_type": "code",
   "execution_count": 20,
   "metadata": {},
   "outputs": [],
   "source": [
    "dqn = build_agent(model)\n",
    "dqn.compile(tf.keras.optimizers.Adam(learning_rate=0.001, clipnorm=1.0), metrics=[\"mean_squared_error\"])"
   ]
  },
  {
   "cell_type": "code",
   "execution_count": 53,
   "metadata": {},
   "outputs": [],
   "source": [
    "#dqn.load_weights(\"saved/dqn_v11.h5\")\n",
    "\n",
    "#from keras import backend as K\n",
    "#print(K.eval(dqn.model.optimizer.learning_rate))\n",
    "#K.set_value(dqn.model.optimizer.learning_rate, 0.001)\n",
    "#print(K.eval(dqn.model.optimizer.learning_rate))"
   ]
  },
  {
   "cell_type": "markdown",
   "metadata": {},
   "source": [
    "## Training"
   ]
  },
  {
   "cell_type": "code",
   "execution_count": 21,
   "metadata": {},
   "outputs": [
    {
     "name": "stdout",
     "output_type": "stream",
     "text": [
      "Training for 200000 steps ...\n",
      "Interval 1 (0 steps performed)\n"
     ]
    },
    {
     "name": "stderr",
     "output_type": "stream",
     "text": [
      "E:\\Programs\\Anaconda\\envs\\game.ai\\lib\\site-packages\\keras\\engine\\training_v1.py:2079: UserWarning: `Model.state_updates` will be removed in a future version. This property should not be used in TensorFlow 2.0, as `updates` are applied automatically.\n",
      "  updates=self.state_updates,\n"
     ]
    },
    {
     "name": "stdout",
     "output_type": "stream",
     "text": [
      "10000/10000 [==============================] - 338s 34ms/step - reward: -1.1888\n",
      "10 episodes - episode_reward: -1085.000 [-1525.700, -535.500] - loss: 13.626 - mean_squared_error: 49.378 - mean_q: -0.601 - mean_eps: 0.949\n",
      "\n",
      "Interval 2 (10000 steps performed)\n",
      "10000/10000 [==============================] - 356s 36ms/step - reward: -1.1515\n",
      "10 episodes - episode_reward: -1239.390 [-1508.950, -999.600] - loss: 12.602 - mean_squared_error: 153.327 - mean_q: -2.944 - mean_eps: 0.850\n",
      "\n",
      "Interval 3 (20000 steps performed)\n",
      "10000/10000 [==============================] - 347s 35ms/step - reward: -1.1386\n",
      "10 episodes - episode_reward: -1149.785 [-2156.300, -815.250] - loss: 11.129 - mean_squared_error: 243.344 - mean_q: -4.743 - mean_eps: 0.750\n",
      "\n",
      "Interval 4 (30000 steps performed)\n",
      "10000/10000 [==============================] - 355s 36ms/step - reward: -0.9586\n",
      "10 episodes - episode_reward: -952.805 [-1363.000, -642.500] - loss: 7.388 - mean_squared_error: 208.658 - mean_q: -3.654 - mean_eps: 0.650\n",
      "\n",
      "Interval 5 (40000 steps performed)\n",
      "10000/10000 [==============================] - 372s 37ms/step - reward: -0.9335\n",
      "9 episodes - episode_reward: -1047.600 [-1223.800, -721.400] - loss: 6.539 - mean_squared_error: 178.045 - mean_q: -2.385 - mean_eps: 0.550\n",
      "\n",
      "Interval 6 (50000 steps performed)\n",
      "10000/10000 [==============================] - 346s 35ms/step - reward: -0.8250\n",
      "9 episodes - episode_reward: -915.622 [-1336.050, -436.300] - loss: 6.766 - mean_squared_error: 152.406 - mean_q: -0.975 - mean_eps: 0.450\n",
      "\n",
      "Interval 7 (60000 steps performed)\n",
      "10000/10000 [==============================] - 353s 35ms/step - reward: -0.7606\n",
      "8 episodes - episode_reward: -916.919 [-1511.700, -441.100] - loss: 7.675 - mean_squared_error: 183.958 - mean_q: -2.479 - mean_eps: 0.350\n",
      "\n",
      "Interval 8 (70000 steps performed)\n",
      "10000/10000 [==============================] - 354s 35ms/step - reward: -0.6489\n",
      "10 episodes - episode_reward: -674.120 [-1082.400, -300.100] - loss: 7.425 - mean_squared_error: 86.978 - mean_q: -1.154 - mean_eps: 0.250\n",
      "\n",
      "Interval 9 (80000 steps performed)\n",
      "10000/10000 [==============================] - 349s 35ms/step - reward: -0.5298\n",
      "8 episodes - episode_reward: -660.356 [-968.600, -332.800] - loss: 5.401 - mean_squared_error: 122.500 - mean_q: -2.543 - mean_eps: 0.150\n",
      "\n",
      "Interval 10 (90000 steps performed)\n",
      "10000/10000 [==============================] - 350s 35ms/step - reward: -0.4896\n",
      "7 episodes - episode_reward: -701.814 [-1028.300, -381.250] - loss: 5.098 - mean_squared_error: 169.176 - mean_q: -4.795 - mean_eps: 0.050\n",
      "\n",
      "Interval 11 (100000 steps performed)\n",
      "10000/10000 [==============================] - 352s 35ms/step - reward: -0.5439\n",
      "7 episodes - episode_reward: -782.407 [-1267.150, -596.800] - loss: 6.757 - mean_squared_error: 535.995 - mean_q: -10.555 - mean_eps: 0.000\n",
      "\n",
      "Interval 12 (110000 steps performed)\n",
      "10000/10000 [==============================] - 366s 37ms/step - reward: -0.5061\n",
      "7 episodes - episode_reward: -716.879 [-1410.000, -314.700] - loss: 6.992 - mean_squared_error: 692.096 - mean_q: -10.636 - mean_eps: 0.000\n",
      "\n",
      "Interval 13 (120000 steps performed)\n",
      "10000/10000 [==============================] - 354s 35ms/step - reward: -0.3797\n",
      "9 episodes - episode_reward: -389.056 [-601.500, -186.900] - loss: 3.602 - mean_squared_error: 778.832 - mean_q: -11.520 - mean_eps: 0.000\n",
      "\n",
      "Interval 14 (130000 steps performed)\n",
      "10000/10000 [==============================] - 357s 36ms/step - reward: -0.5013\n",
      "8 episodes - episode_reward: -656.638 [-1397.400, -199.750] - loss: 5.065 - mean_squared_error: 1086.881 - mean_q: -17.257 - mean_eps: 0.000\n",
      "\n",
      "Interval 15 (140000 steps performed)\n",
      "10000/10000 [==============================] - 349s 35ms/step - reward: -0.4311\n",
      "9 episodes - episode_reward: -489.883 [-956.750, -316.750] - loss: 4.517 - mean_squared_error: 1559.555 - mean_q: -12.921 - mean_eps: 0.000\n",
      "\n",
      "Interval 16 (150000 steps performed)\n",
      "10000/10000 [==============================] - 365s 36ms/step - reward: -0.5083\n",
      "6 episodes - episode_reward: -830.942 [-1216.000, -264.300] - loss: 5.911 - mean_squared_error: 5016.487 - mean_q: -19.720 - mean_eps: 0.000\n",
      "\n",
      "Interval 17 (160000 steps performed)\n",
      "10000/10000 [==============================] - 362s 36ms/step - reward: -0.4790\n",
      "6 episodes - episode_reward: -789.142 [-1289.450, -358.650] - loss: 5.119 - mean_squared_error: 3119.451 - mean_q: -28.419 - mean_eps: 0.000\n",
      "\n",
      "Interval 18 (170000 steps performed)\n",
      "10000/10000 [==============================] - 390s 39ms/step - reward: -0.3803\n",
      "8 episodes - episode_reward: -444.125 [-1103.300, -304.350] - loss: 2.879 - mean_squared_error: 2091.883 - mean_q: -17.516 - mean_eps: 0.000\n",
      "\n",
      "Interval 19 (180000 steps performed)\n",
      "10000/10000 [==============================] - 446s 45ms/step - reward: -0.5625\n",
      "6 episodes - episode_reward: -955.225 [-1148.800, -452.650] - loss: 5.923 - mean_squared_error: 14063.681 - mean_q: -29.193 - mean_eps: 0.000\n",
      "\n",
      "Interval 20 (190000 steps performed)\n",
      "10000/10000 [==============================] - 422s 42ms/step - reward: -0.4466\n",
      "done, took 7283.337 seconds\n"
     ]
    }
   ],
   "source": [
    "history = dqn.fit(env, nb_steps=200000, visualize=False, verbose=1, log_interval=10000)"
   ]
  },
  {
   "cell_type": "markdown",
   "metadata": {},
   "source": [
    "## Save Weights"
   ]
  },
  {
   "cell_type": "code",
   "execution_count": 22,
   "metadata": {},
   "outputs": [],
   "source": [
    "dqn.save_weights(\"saved/dqn_v13.h5\", overwrite=True)"
   ]
  },
  {
   "cell_type": "markdown",
   "metadata": {},
   "source": [
    "## Plot"
   ]
  },
  {
   "cell_type": "code",
   "execution_count": 23,
   "metadata": {},
   "outputs": [
    {
     "data": {
      "image/png": "[encoded data removed]",
      "text/plain": [
       "<Figure size 1152x576 with 1 Axes>"
      ]
     },
     "metadata": {
      "needs_background": "light"
     },
     "output_type": "display_data"
    }
   ],
   "source": [
    "# load history\n",
    "#full_hist = np.load(\"saved/history.npy\")\n",
    "# concat old and new history\n",
    "#full_hist = np.concatenate((full_hist, np.array(history.history[\"episode_reward\"])))\n",
    "# save history\n",
    "np.save(\"saved/history.npy\", np.array(history.history[\"episode_reward\"]))\n",
    "\n",
    "plt.rcParams[\"figure.figsize\"] = (16, 8)\n",
    "#plt.plot(moving_average(full_hist, 10))\n",
    "#plt.plot(full_hist)\n",
    "plt.plot(np.array(history.history[\"episode_reward\"]))\n",
    "plt.show()"
   ]
  },
  {
   "cell_type": "code",
   "execution_count": null,
   "metadata": {},
   "outputs": [],
   "source": []
  }
 ],
 "metadata": {
  "interpreter": {
   "hash": "32700bc3807e85cff4169f1494086cde6a49298b14454c6caa68f1dd2006857d"
  },
  "kernelspec": {
   "display_name": "Python 3.9.7 64-bit ('game.ai': conda)",
   "language": "python",
   "name": "python3"
  },
  "language_info": {
   "codemirror_mode": {
    "name": "ipython",
    "version": 3
   },
   "file_extension": ".py",
   "mimetype": "text/x-python",
   "name": "python",
   "nbconvert_exporter": "python",
   "pygments_lexer": "ipython3",
   "version": "3.9.7"
  },
  "orig_nbformat": 4
 },
 "nbformat": 4,
 "nbformat_minor": 2
}
