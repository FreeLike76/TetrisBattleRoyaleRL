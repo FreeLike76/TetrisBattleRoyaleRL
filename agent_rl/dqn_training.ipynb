{
 "cells": [
  {
   "cell_type": "markdown",
   "metadata": {},
   "source": [
    "# DQN Training\n",
    "Training a DQN agent using custom gym environment and keras-rl2."
   ]
  },
  {
   "cell_type": "markdown",
   "metadata": {},
   "source": [
    "# Imports"
   ]
  },
  {
   "cell_type": "code",
   "execution_count": 1,
   "metadata": {},
   "outputs": [],
   "source": [
    "import numpy as np\n",
    "import matplotlib.pyplot as plt\n",
    "\n",
    "import tensorflow as tf\n",
    "import tensorflow.keras as keras\n",
    "import tensorflow.keras.layers as layers\n",
    "\n",
    "from gym import Env\n",
    "from gym.spaces import Discrete, Box\n",
    "\n",
    "from rl.agents import DQNAgent\n",
    "from rl.policy import MaxBoltzmannQPolicy, BoltzmannQPolicy, LinearAnnealedPolicy, EpsGreedyQPolicy\n",
    "from rl.memory import SequentialMemory"
   ]
  },
  {
   "cell_type": "markdown",
   "metadata": {},
   "source": [
    "## Functions"
   ]
  },
  {
   "cell_type": "code",
   "execution_count": 2,
   "metadata": {},
   "outputs": [],
   "source": [
    "def moving_average(x, w):\n",
    "    return np.convolve(x, np.ones(w), \"valid\") / w"
   ]
  },
  {
   "cell_type": "markdown",
   "metadata": {},
   "source": [
    "# Environment"
   ]
  },
  {
   "cell_type": "markdown",
   "metadata": {},
   "source": [
    "## Loading Shape Class"
   ]
  },
  {
   "cell_type": "code",
   "execution_count": 3,
   "metadata": {},
   "outputs": [],
   "source": [
    "import sys  \n",
    "sys.path.insert(0, \"E:\\Projects\\Python\\TetrisRoyaleRL\")\n",
    "\n",
    "from settings import *\n",
    "from game_env.shapes import Shape\n",
    "from game_env.game_env import GameEnv"
   ]
  },
  {
   "cell_type": "markdown",
   "metadata": {},
   "source": [
    "## Reworking the Environment"
   ]
  },
  {
   "cell_type": "markdown",
   "metadata": {},
   "source": [
    "## Define new functions"
   ]
  },
  {
   "cell_type": "code",
   "execution_count": 8,
   "metadata": {},
   "outputs": [],
   "source": [
    "def heuristic(self):\n",
    "        temp_map = self.map\n",
    "        # sum of heights\n",
    "        heights = 24 - np.argmax(temp_map[:, GAME_SHAPE_BORDERS: -GAME_SHAPE_BORDERS] == 1, axis=0)\n",
    "        sum_hights = heights.sum()\n",
    "\n",
    "        # bumpiness\n",
    "        bumpiness = 0\n",
    "        for i in range(heights.shape[0] - 1):\n",
    "            bumpiness += abs(heights[i] - heights[i + 1])\n",
    "\n",
    "        # complete rows\n",
    "        temp_map = temp_map[GAME_SHAPE_TOP_HIDDEN: -GAME_SHAPE_BORDERS, GAME_SHAPE_BORDERS: -GAME_SHAPE_BORDERS]\n",
    "        complete_rows = (np.where(temp_map.sum(axis=1) == 10)[0]).size\n",
    "\n",
    "        # count of holes\n",
    "        holes = 0\n",
    "        for i in range(1, temp_map.shape[0]):\n",
    "            for j in range(temp_map.shape[1]):\n",
    "                if temp_map[i, j] == 0 and temp_map[i-1, j] == 1:\n",
    "                    holes += 1\n",
    "\n",
    "        total = -0.75 * sum_hights \\\n",
    "                + 0.75 * complete_rows \\\n",
    "                - 0.35 * holes \\\n",
    "                - 0.2 * bumpiness\n",
    "        return total"
   ]
  },
  {
   "cell_type": "code",
   "execution_count": 12,
   "metadata": {},
   "outputs": [],
   "source": [
    "def new_state_observe(self):\n",
    "        # observable map\n",
    "        temp_map = self.map[GAME_SHAPE_TOP_HIDDEN:-GAME_SHAPE_BORDERS, GAME_SHAPE_BORDERS: -GAME_SHAPE_BORDERS].copy()\n",
    "        \n",
    "        # observation of cur shape on map\n",
    "        temp_shape = np.zeros(self.map.shape)\n",
    "        x0 = self.shape.x\n",
    "        y0 = int(self.shape.y)\n",
    "        this_shape = self.shape.get_shape()\n",
    "        temp_shape[y0: y0 + this_shape.shape[0], x0: x0 + this_shape.shape[1]] += this_shape\n",
    "        temp_shape = temp_shape[GAME_SHAPE_TOP_HIDDEN:-GAME_SHAPE_BORDERS, GAME_SHAPE_BORDERS: -GAME_SHAPE_BORDERS]\n",
    "        \n",
    "        # next shape on map, assuming y0 = 0\n",
    "        temp_next_shape = np.zeros((20, 10))\n",
    "        x0 = self.next_shape.x - GAME_SHAPE_BORDERS\n",
    "        next_shape = self.next_shape.get_shape()\n",
    "        temp_next_shape[0: next_shape.shape[0], x0: x0 + next_shape.shape[1]] += next_shape\n",
    "\n",
    "        return np.stack([temp_map, temp_shape, temp_next_shape], axis=-1).astype(np.float32)"
   ]
  },
  {
   "cell_type": "markdown",
   "metadata": {},
   "source": [
    "## Assign new functions"
   ]
  },
  {
   "cell_type": "code",
   "execution_count": 22,
   "metadata": {},
   "outputs": [],
   "source": [
    "GameEnv._state_observe = new_state_observe\n",
    "GameEnv._reward_after_lock_figure = heuristic"
   ]
  },
  {
   "cell_type": "markdown",
   "metadata": {},
   "source": [
    "class GameEnv(Env):\n",
    "    def __init__(self):\n",
    "        # spaces\n",
    "        self.action_space = Discrete(5)\n",
    "        self.observation_space = Box(low=0.0, high=1.0, shape=(20, 10, 3))\n",
    "        \n",
    "        # state\n",
    "        self.game_over = None\n",
    "\n",
    "        # coord\n",
    "        self.map = None\n",
    "\n",
    "        # shape\n",
    "        self.shape = None\n",
    "        self.next_shape = None\n",
    "\n",
    "        # init env\n",
    "        self._state_gen()\n",
    "\n",
    "    def _state_gen(self):\n",
    "        self.game_over = False\n",
    "        \n",
    "        self.map = np.ones((GAME_SHAPE_TOP_HIDDEN + 20 + GAME_SHAPE_BORDERS,\n",
    "                            GAME_SHAPE_BORDERS + 10 + GAME_SHAPE_BORDERS), dtype=np.int32)\n",
    "        self.map[0: -GAME_SHAPE_BORDERS, GAME_SHAPE_BORDERS: -GAME_SHAPE_BORDERS] = 0\n",
    "        \n",
    "        self.shape = Shape()\n",
    "        self.next_shape = Shape()\n",
    "\n",
    "    def _state_observe(self):\n",
    "        # observable map\n",
    "        temp_map = self.map[GAME_SHAPE_TOP_HIDDEN:-GAME_SHAPE_BORDERS, GAME_SHAPE_BORDERS: -GAME_SHAPE_BORDERS].copy()\n",
    "        \n",
    "        # observation of cur shape on map\n",
    "        temp_shape = np.zeros(self.map.shape)\n",
    "        x0 = self.shape.x\n",
    "        y0 = int(self.shape.y)\n",
    "        this_shape = self.shape.get_shape()\n",
    "        temp_shape[y0: y0 + this_shape.shape[0], x0: x0 + this_shape.shape[1]] += this_shape\n",
    "        temp_shape = temp_shape[GAME_SHAPE_TOP_HIDDEN:-GAME_SHAPE_BORDERS, GAME_SHAPE_BORDERS: -GAME_SHAPE_BORDERS]\n",
    "        \n",
    "        # next shape on map, assuming y0 = 0\n",
    "        temp_next_shape = np.zeros((20, 10))\n",
    "        x0 = self.next_shape.x - GAME_SHAPE_BORDERS\n",
    "        next_shape = self.next_shape.get_shape()\n",
    "        temp_next_shape[0: next_shape.shape[0], x0: x0 + next_shape.shape[1]] += next_shape\n",
    "\n",
    "        return np.stack([temp_map, temp_shape, temp_next_shape], axis=-1).astype(np.float32)\n",
    "\n",
    "    def render(self, mode=\"human\"):\n",
    "        pass\n",
    "    \n",
    "    def reset(self):\n",
    "        # restart state\n",
    "        self._state_gen()\n",
    "        # not terminal\n",
    "        return self._state_observe()\n",
    "\n",
    "    def step(self, action):\n",
    "        reward = 0\n",
    "        # 0 is skip\n",
    "        # 1 is left\n",
    "        if action == 1:\n",
    "            if self.can_move(self.shape.x - 1, int(self.shape.y), self.shape.get_shape()):\n",
    "                self.shape.x -= 1\n",
    "            else:\n",
    "                #reward -= 1\n",
    "                pass\n",
    "        # 2 is right\n",
    "        elif action == 2:\n",
    "            if self.can_move(self.shape.x + 1, int(self.shape.y), self.shape.get_shape()):\n",
    "                self.shape.x += 1\n",
    "            else:\n",
    "                #reward -= 1\n",
    "                pass\n",
    "        # 3 is down\n",
    "        elif action == 3:\n",
    "            if self.can_move(self.shape.x, int(self.shape.y + 1), self.shape.get_shape()):\n",
    "                self.shape.y += 1\n",
    "            else:\n",
    "                #reward -= 1\n",
    "                pass\n",
    "        # 4 is rotate\n",
    "        elif action == 4:\n",
    "            if self.can_move(self.shape.x, int(self.shape.y), self.shape.get_rotated()):\n",
    "                self.shape.rotate()\n",
    "            else:\n",
    "                #reward -= 1\n",
    "                pass\n",
    "        # move down\n",
    "        if self.can_move(self.shape.x, int(self.shape.y + FALL_SPEED), self.shape.get_shape()):\n",
    "            self.shape.y += FALL_SPEED\n",
    "        else:\n",
    "            self.lock_figure()\n",
    "            #reward += self.lock_figure()\n",
    "            reward += self.heuristic()\n",
    "\n",
    "            #reward for height of locked shapes\n",
    "            #height = self.map[GAME_SHAPE_TOP_HIDDEN: -GAME_SHAPE_BORDERS, GAME_SHAPE_BORDERS: -GAME_SHAPE_BORDERS]\n",
    "            #height = np.where(height.sum(axis=1) == 0)[0]\n",
    "            #reward += (height.size) / 5\n",
    "        \n",
    "        # reward for cleared rows\n",
    "        reward += self.remove_full_rows()\n",
    "        \n",
    "        return self._state_observe(), reward, self.game_over, {}\n",
    "\n",
    "\n",
    "    def at(self, x, y):\n",
    "        return self.map[GAME_SHAPE_TOP_HIDDEN + y, GAME_SHAPE_BORDERS + x]\n",
    "\n",
    "    def can_move(self, x0, y0, figure):\n",
    "        temp = self.map.copy()\n",
    "        temp[int(y0): int(y0 + figure.shape[0]), x0: x0 + figure.shape[1]] += figure\n",
    "        if 2 in temp:\n",
    "            return False\n",
    "        else:\n",
    "            return True\n",
    "\n",
    "    def lock_figure(self):\n",
    "        x = self.shape.x\n",
    "        y = int(self.shape.y)\n",
    "        figure = self.shape.get_shape()\n",
    "        self.map[y: y + figure.shape[0], x: x + figure.shape[1]] += figure\n",
    "        self.shape = self.next_shape\n",
    "        self.next_shape = Shape()\n",
    "        if y < GAME_SHAPE_TOP_HIDDEN:\n",
    "            self.game_over = True\n",
    "        return y - GAME_SHAPE_TOP_HIDDEN\n",
    "\n",
    "\n",
    "    def remove_full_rows(self):\n",
    "        reward = 0\n",
    "        full = self.map[GAME_SHAPE_TOP_HIDDEN: -GAME_SHAPE_BORDERS, GAME_SHAPE_BORDERS: -GAME_SHAPE_BORDERS]\n",
    "        full = np.where(full.sum(axis=1) == 10)[0]\n",
    "        if full.size > 0:\n",
    "            reward = full.size * 10\n",
    "\n",
    "            # to get indexes of the game screen\n",
    "            full = full + GAME_SHAPE_TOP_HIDDEN\n",
    "\n",
    "            # remove full rows\n",
    "            self.map[full, GAME_SHAPE_BORDERS: -GAME_SHAPE_BORDERS] = 0\n",
    "\n",
    "            # get non-empty rows\n",
    "            partial = self.map[GAME_SHAPE_TOP_HIDDEN: -GAME_SHAPE_BORDERS, GAME_SHAPE_BORDERS: -GAME_SHAPE_BORDERS]\n",
    "            partial = np.where(partial.sum(axis=1) != 0)[0]\n",
    "\n",
    "            # if there are levitating non-empty rows\n",
    "            if partial.size > 0:\n",
    "                # get their indexes\n",
    "                partial = partial + GAME_SHAPE_TOP_HIDDEN\n",
    "                bottom = self.map.shape[0] - GAME_SHAPE_BORDERS\n",
    "                # move them to bottom\n",
    "                self.map[bottom-partial.size: bottom, GAME_SHAPE_BORDERS: -GAME_SHAPE_BORDERS] = \\\n",
    "                    self.map[partial, GAME_SHAPE_BORDERS: -GAME_SHAPE_BORDERS]\n",
    "                # everything above must be cleared\n",
    "                self.map[0: bottom-partial.size, GAME_SHAPE_BORDERS: -GAME_SHAPE_BORDERS] = 0\n",
    "        return reward\n",
    "        \n",
    "    def heuristic(self):\n",
    "        temp_map = self.map\n",
    "        # sum of heights\n",
    "        heights = 24 - np.argmax(temp_map[:, GAME_SHAPE_BORDERS: -GAME_SHAPE_BORDERS] == 1, axis=0)\n",
    "        sum_hights = heights.sum()\n",
    "\n",
    "        # bumpiness\n",
    "        bumpiness = 0\n",
    "        for i in range(heights.shape[0] - 1):\n",
    "            bumpiness += abs(heights[i] - heights[i + 1])\n",
    "\n",
    "        # complete rows\n",
    "        temp_map = temp_map[GAME_SHAPE_TOP_HIDDEN: -GAME_SHAPE_BORDERS, GAME_SHAPE_BORDERS: -GAME_SHAPE_BORDERS]\n",
    "        complete_rows = (np.where(temp_map.sum(axis=1) == 10)[0]).size\n",
    "\n",
    "        # count of holes\n",
    "        holes = 0\n",
    "        for i in range(1, temp_map.shape[0]):\n",
    "            for j in range(temp_map.shape[1]):\n",
    "                if temp_map[i, j] == 0 and temp_map[i-1, j] == 1:\n",
    "                    holes += 1\n",
    "\n",
    "        total = -0.75 * sum_hights \\\n",
    "                + 0.75 * complete_rows \\\n",
    "                - 0.35 * holes \\\n",
    "                - 0.2 * bumpiness\n",
    "        return total"
   ]
  },
  {
   "cell_type": "markdown",
   "metadata": {},
   "source": [
    "## Create env"
   ]
  },
  {
   "cell_type": "code",
   "execution_count": 23,
   "metadata": {},
   "outputs": [],
   "source": [
    "env = GameEnv()\n",
    "env.observation_space = Box(low=0.0, high=1.0, shape=(20, 10, 3))"
   ]
  },
  {
   "cell_type": "markdown",
   "metadata": {},
   "source": [
    "## Test Random"
   ]
  },
  {
   "cell_type": "code",
   "execution_count": 24,
   "metadata": {},
   "outputs": [
    {
     "name": "stdout",
     "output_type": "stream",
     "text": [
      "Episode: 1, Score: -1427.65, Steps: 1053\n",
      "Episode: 2, Score: -1550.1, Steps: 1092\n",
      "Episode: 3, Score: -1492.6499999999999, Steps: 1121\n",
      "Episode: 4, Score: -1681.7, Steps: 1200\n",
      "Episode: 5, Score: -1756.8000000000002, Steps: 1229\n",
      "Episode: 6, Score: -2061.2, Steps: 1311\n",
      "Episode: 7, Score: -2023.7, Steps: 1254\n",
      "Episode: 8, Score: -1764.3000000000002, Steps: 1295\n",
      "Episode: 9, Score: -2058.1000000000004, Steps: 1296\n",
      "Episode: 10, Score: -2071.6, Steps: 1350\n",
      "Episode: 11, Score: -1184.85, Steps: 947\n",
      "Episode: 12, Score: -1258.7, Steps: 958\n",
      "Episode: 13, Score: -1927.9499999999998, Steps: 1163\n",
      "Episode: 14, Score: -1538.85, Steps: 1135\n",
      "Episode: 15, Score: -1887.2999999999997, Steps: 1310\n",
      "Episode: 16, Score: -1822.35, Steps: 1348\n",
      "Episode: 17, Score: -1676.3000000000002, Steps: 1218\n",
      "Episode: 18, Score: -1851.3, Steps: 1284\n",
      "Episode: 19, Score: -1740.6999999999998, Steps: 1364\n",
      "Episode: 20, Score: -1510.5500000000002, Steps: 1281\n",
      "Episode: 21, Score: -1985.65, Steps: 1273\n",
      "Episode: 22, Score: -1031.9, Steps: 1094\n",
      "Episode: 23, Score: -820.8999999999999, Steps: 796\n",
      "Episode: 24, Score: -1513.2, Steps: 1189\n",
      "Episode: 25, Score: -1621.35, Steps: 1119\n"
     ]
    }
   ],
   "source": [
    "episodes = 25\n",
    "for episode in range(1, episodes+1):\n",
    "    state = env.reset()\n",
    "    done = False\n",
    "    score = 0\n",
    "    steps = 0\n",
    "    while not done:\n",
    "        action = np.random.randint(0, 4)\n",
    "        n_state, reward, done, info = env.step(action)\n",
    "        score+=reward\n",
    "        steps +=1\n",
    "    print(\"Episode: {}, Score: {}, Steps: {}\".format(episode, score, steps))"
   ]
  },
  {
   "cell_type": "markdown",
   "metadata": {},
   "source": [
    "## Test do-nothing"
   ]
  },
  {
   "cell_type": "code",
   "execution_count": 25,
   "metadata": {},
   "outputs": [
    {
     "name": "stdout",
     "output_type": "stream",
     "text": [
      "Episode: 1, Score: -1043.6499999999999, Steps: 2902\n",
      "Episode: 2, Score: -755.1, Steps: 2808\n",
      "Episode: 3, Score: -907.9499999999999, Steps: 3062\n",
      "Episode: 4, Score: -1130.75, Steps: 2849\n",
      "Episode: 5, Score: -1058.3, Steps: 2969\n",
      "Episode: 6, Score: -1181.5, Steps: 3143\n",
      "Episode: 7, Score: -1395.85, Steps: 3329\n",
      "Episode: 8, Score: -997.7, Steps: 2982\n",
      "Episode: 9, Score: -965.95, Steps: 2796\n",
      "Episode: 10, Score: -1152.65, Steps: 3116\n",
      "Episode: 11, Score: -925.1, Steps: 3035\n",
      "Episode: 12, Score: -1075.6999999999998, Steps: 3211\n",
      "Episode: 13, Score: -1268.1499999999999, Steps: 2996\n",
      "Episode: 14, Score: -1134.5, Steps: 2875\n",
      "Episode: 15, Score: -1343.7500000000002, Steps: 3264\n",
      "Episode: 16, Score: -1106.45, Steps: 3223\n",
      "Episode: 17, Score: -724.95, Steps: 2635\n",
      "Episode: 18, Score: -1078.7, Steps: 3332\n",
      "Episode: 19, Score: -1140.5500000000002, Steps: 3572\n",
      "Episode: 20, Score: -880.4000000000001, Steps: 3316\n",
      "Episode: 21, Score: -1030.7000000000003, Steps: 3330\n",
      "Episode: 22, Score: -843.8000000000002, Steps: 3023\n",
      "Episode: 23, Score: -967.1500000000001, Steps: 3212\n",
      "Episode: 24, Score: -831.3, Steps: 2314\n",
      "Episode: 25, Score: -758.1999999999999, Steps: 2313\n"
     ]
    }
   ],
   "source": [
    "episodes = 25\n",
    "for episode in range(1, episodes+1):\n",
    "    state = env.reset()\n",
    "    done = False\n",
    "    score = 0\n",
    "    steps = 0\n",
    "    while not done:\n",
    "        action = -1\n",
    "        n_state, reward, done, info = env.step(action)\n",
    "        score+=reward\n",
    "        steps +=1\n",
    "    print(\"Episode: {}, Score: {}, Steps: {}\".format(episode, score, steps))"
   ]
  },
  {
   "cell_type": "markdown",
   "metadata": {},
   "source": [
    "# Nural Network and Agent"
   ]
  },
  {
   "cell_type": "markdown",
   "metadata": {},
   "source": [
    "## Build model"
   ]
  },
  {
   "cell_type": "code",
   "execution_count": 26,
   "metadata": {},
   "outputs": [
    {
     "data": {
      "text/plain": [
       "[PhysicalDevice(name='/physical_device:GPU:0', device_type='GPU')]"
      ]
     },
     "execution_count": 26,
     "metadata": {},
     "output_type": "execute_result"
    }
   ],
   "source": [
    "tf.config.list_physical_devices(\"GPU\")"
   ]
  },
  {
   "cell_type": "code",
   "execution_count": 27,
   "metadata": {},
   "outputs": [],
   "source": [
    "def build_model():\n",
    "    return tf.keras.Sequential([\n",
    "    # 1 state, 20 rows, 10 cols, 3 matricies: locked, falling and next figures\n",
    "    layers.Input(shape=(1, 20, 10, 3)),\n",
    "    layers.Reshape(target_shape=(20, 10, 3)),\n",
    "    \n",
    "    layers.Conv2D(filters=32, kernel_size=(3, 3), padding=\"same\"),\n",
    "    layers.Activation(\"relu\"),\n",
    "    layers.MaxPool2D(),\n",
    "    \n",
    "    layers.Conv2D(filters=64, kernel_size=(3, 3), padding=\"same\"),\n",
    "    layers.Activation(\"relu\"),\n",
    "    layers.MaxPool2D(),\n",
    "    \n",
    "    layers.Flatten(),\n",
    "    \n",
    "    layers.Dense(32),\n",
    "    layers.Activation(\"relu\"),\n",
    "    \n",
    "    layers.Dense(16),\n",
    "    layers.Activation(\"relu\"),\n",
    "    \n",
    "    layers.Dense(5)])"
   ]
  },
  {
   "cell_type": "code",
   "execution_count": 28,
   "metadata": {},
   "outputs": [
    {
     "name": "stdout",
     "output_type": "stream",
     "text": [
      "Model: \"sequential_1\"\n",
      "_________________________________________________________________\n",
      " Layer (type)                Output Shape              Param #   \n",
      "=================================================================\n",
      " reshape_1 (Reshape)         (None, 20, 10, 3)         0         \n",
      "                                                                 \n",
      " conv2d_2 (Conv2D)           (None, 20, 10, 32)        896       \n",
      "                                                                 \n",
      " activation_4 (Activation)   (None, 20, 10, 32)        0         \n",
      "                                                                 \n",
      " max_pooling2d_2 (MaxPooling  (None, 10, 5, 32)        0         \n",
      " 2D)                                                             \n",
      "                                                                 \n",
      " conv2d_3 (Conv2D)           (None, 10, 5, 64)         18496     \n",
      "                                                                 \n",
      " activation_5 (Activation)   (None, 10, 5, 64)         0         \n",
      "                                                                 \n",
      " max_pooling2d_3 (MaxPooling  (None, 5, 2, 64)         0         \n",
      " 2D)                                                             \n",
      "                                                                 \n",
      " flatten_1 (Flatten)         (None, 640)               0         \n",
      "                                                                 \n",
      " dense_3 (Dense)             (None, 32)                20512     \n",
      "                                                                 \n",
      " activation_6 (Activation)   (None, 32)                0         \n",
      "                                                                 \n",
      " dense_4 (Dense)             (None, 16)                528       \n",
      "                                                                 \n",
      " activation_7 (Activation)   (None, 16)                0         \n",
      "                                                                 \n",
      " dense_5 (Dense)             (None, 5)                 85        \n",
      "                                                                 \n",
      "=================================================================\n",
      "Total params: 40,517\n",
      "Trainable params: 40,517\n",
      "Non-trainable params: 0\n",
      "_________________________________________________________________\n"
     ]
    }
   ],
   "source": [
    "model = build_model()\n",
    "model.summary()"
   ]
  },
  {
   "cell_type": "markdown",
   "metadata": {},
   "source": [
    "## Agent"
   ]
  },
  {
   "cell_type": "code",
   "execution_count": 29,
   "metadata": {},
   "outputs": [
    {
     "data": {
      "text/plain": [
       "((20, 10, 3), 5)"
      ]
     },
     "execution_count": 29,
     "metadata": {},
     "output_type": "execute_result"
    }
   ],
   "source": [
    "env.observation_space.shape, env.action_space.n"
   ]
  },
  {
   "cell_type": "code",
   "execution_count": 30,
   "metadata": {},
   "outputs": [],
   "source": [
    "def build_agent(model):\n",
    "    #policy = MaxBoltzmannQPolicy()\n",
    "    #policy = LinearAnnealedPolicy(EpsGreedyQPolicy(), \n",
    "    #                          attr='eps',\n",
    "    #                          value_max=1.0,\n",
    "    #                          value_min=0,\n",
    "    #                          value_test=.05,\n",
    "    #                          nb_steps=150000)\n",
    "    policy = EpsGreedyQPolicy(0.4)\n",
    "    memory = SequentialMemory(limit=5000, window_length=1)\n",
    "    dqn = DQNAgent(model=model, \n",
    "        memory=memory,\n",
    "        policy=policy,\n",
    "        nb_actions=5,\n",
    "        nb_steps_warmup=256,\n",
    "        batch_size=128,\n",
    "        target_model_update=1000,\n",
    "        enable_double_dqn=True,\n",
    "        enable_dueling_network=True)\n",
    "    return dqn"
   ]
  },
  {
   "cell_type": "code",
   "execution_count": 31,
   "metadata": {},
   "outputs": [],
   "source": [
    "dqn = build_agent(model)\n",
    "dqn.compile(tf.keras.optimizers.Adam(learning_rate=0.0001, clipnorm=1.0), metrics=[\"mean_squared_error\"])"
   ]
  },
  {
   "cell_type": "code",
   "execution_count": 32,
   "metadata": {},
   "outputs": [],
   "source": [
    "dqn.load_weights(\"saved/dqn_v15.h5\")\n",
    "\n",
    "from keras import backend as K\n",
    "print(K.eval(dqn.model.optimizer.learning_rate))\n",
    "K.set_value(dqn.model.optimizer.learning_rate, 0.0001)\n",
    "print(K.eval(dqn.model.optimizer.learning_rate))"
   ]
  },
  {
   "cell_type": "markdown",
   "metadata": {},
   "source": [
    "## Training"
   ]
  },
  {
   "cell_type": "code",
   "execution_count": 33,
   "metadata": {},
   "outputs": [
    {
     "name": "stdout",
     "output_type": "stream",
     "text": [
      "Training for 50000 steps ...\n",
      "Interval 1 (0 steps performed)\n"
     ]
    },
    {
     "name": "stderr",
     "output_type": "stream",
     "text": [
      "E:\\Programs\\Anaconda\\envs\\game.ai\\lib\\site-packages\\keras\\engine\\training_v1.py:2079: UserWarning: `Model.state_updates` will be removed in a future version. This property should not be used in TensorFlow 2.0, as `updates` are applied automatically.\n",
      "  updates=self.state_updates,\n"
     ]
    },
    {
     "name": "stdout",
     "output_type": "stream",
     "text": [
      " 499/5000 [=>............................] - ETA: 1:33 - reward: -0.2615done, took 11.905 seconds\n"
     ]
    }
   ],
   "source": [
    "history = dqn.fit(env, nb_steps=50000, visualize=False, verbose=1, log_interval=5000)"
   ]
  },
  {
   "cell_type": "markdown",
   "metadata": {},
   "source": [
    "## Save Weights"
   ]
  },
  {
   "cell_type": "code",
   "execution_count": null,
   "metadata": {},
   "outputs": [],
   "source": [
    "dqn.save_weights(\"saved/dqn_v15.h5\", overwrite=True)"
   ]
  },
  {
   "cell_type": "markdown",
   "metadata": {},
   "source": [
    "## Plot"
   ]
  },
  {
   "cell_type": "code",
   "execution_count": 20,
   "metadata": {},
   "outputs": [
    {
     "data": {
      "image/png": "[encoded data removed]",
      "text/plain": [
       "<Figure size 1152x576 with 1 Axes>"
      ]
     },
     "metadata": {
      "needs_background": "light"
     },
     "output_type": "display_data"
    }
   ],
   "source": [
    "# load history\n",
    "full_hist = np.load(\"saved/history.npy\")\n",
    "# concat old and new history\n",
    "full_hist = np.concatenate((full_hist, np.array(history.history[\"episode_reward\"])))\n",
    "# save history\n",
    "#np.save(\"saved/history.npy\", np.array(history.history[\"episode_reward\"]))\n",
    "\n",
    "plt.rcParams[\"figure.figsize\"] = (16, 8)\n",
    "#plt.plot(moving_average(full_hist, 10))\n",
    "plt.plot(full_hist)\n",
    "#plt.plot(np.array(history.history[\"episode_reward\"]))\n",
    "plt.show()"
   ]
  }
 ],
 "metadata": {
  "interpreter": {
   "hash": "32700bc3807e85cff4169f1494086cde6a49298b14454c6caa68f1dd2006857d"
  },
  "kernelspec": {
   "display_name": "Python 3.9.7 64-bit ('game.ai': conda)",
   "language": "python",
   "name": "python3"
  },
  "language_info": {
   "codemirror_mode": {
    "name": "ipython",
    "version": 3
   },
   "file_extension": ".py",
   "mimetype": "text/x-python",
   "name": "python",
   "nbconvert_exporter": "python",
   "pygments_lexer": "ipython3",
   "version": "3.9.7"
  },
  "orig_nbformat": 4
 },
 "nbformat": 4,
 "nbformat_minor": 2
}
